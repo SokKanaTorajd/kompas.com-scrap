{
  "cells": [
    {
      "cell_type": "markdown",
      "metadata": {
        "id": "jAWsUvqK9AvU"
      },
      "source": [
        "# Install Libraries"
      ]
    },
    {
      "cell_type": "code",
      "execution_count": 62,
      "metadata": {
        "id": "YZKu31U-9AwG",
        "colab": {
          "base_uri": "https://localhost:8080/"
        },
        "outputId": "a018401c-0cc6-4272-df6f-ccb54a7fa624"
      },
      "outputs": [
        {
          "output_type": "stream",
          "name": "stdout",
          "text": [
            "Requirement already satisfied: pandas in /usr/local/lib/python3.7/dist-packages (1.1.5)\n",
            "Requirement already satisfied: Sastrawi in /usr/local/lib/python3.7/dist-packages (1.0.1)\n",
            "Requirement already satisfied: nlp-id in /usr/local/lib/python3.7/dist-packages (0.1.12.0)\n",
            "Requirement already satisfied: numpy>=1.15.4 in /usr/local/lib/python3.7/dist-packages (from pandas) (1.19.5)\n",
            "Requirement already satisfied: python-dateutil>=2.7.3 in /usr/local/lib/python3.7/dist-packages (from pandas) (2.8.2)\n",
            "Requirement already satisfied: pytz>=2017.2 in /usr/local/lib/python3.7/dist-packages (from pandas) (2018.9)\n",
            "Requirement already satisfied: six>=1.5 in /usr/local/lib/python3.7/dist-packages (from python-dateutil>=2.7.3->pandas) (1.15.0)\n",
            "Requirement already satisfied: nltk==3.4.5 in /usr/local/lib/python3.7/dist-packages (from nlp-id) (3.4.5)\n",
            "Requirement already satisfied: wget==3.2 in /usr/local/lib/python3.7/dist-packages (from nlp-id) (3.2)\n",
            "Requirement already satisfied: scikit-learn==0.22 in /usr/local/lib/python3.7/dist-packages (from nlp-id) (0.22)\n",
            "Requirement already satisfied: scipy>=0.17.0 in /usr/local/lib/python3.7/dist-packages (from scikit-learn==0.22->nlp-id) (1.4.1)\n",
            "Requirement already satisfied: joblib>=0.11 in /usr/local/lib/python3.7/dist-packages (from scikit-learn==0.22->nlp-id) (1.1.0)\n"
          ]
        }
      ],
      "source": [
        "!pip install pandas Sastrawi nlp-id"
      ]
    },
    {
      "cell_type": "code",
      "source": [
        "!pip install swifter"
      ],
      "metadata": {
        "id": "Rum8YR5MqUNZ"
      },
      "execution_count": null,
      "outputs": []
    },
    {
      "cell_type": "markdown",
      "metadata": {
        "id": "JgiqseZZ9AwX"
      },
      "source": [
        "# Import Libraries"
      ]
    },
    {
      "cell_type": "code",
      "execution_count": 1,
      "metadata": {
        "id": "dyubQ32l9Awk"
      },
      "outputs": [],
      "source": [
        "import pandas as pd"
      ]
    },
    {
      "cell_type": "markdown",
      "metadata": {
        "id": "nGOemTu49Awn"
      },
      "source": [
        "# Load data"
      ]
    },
    {
      "cell_type": "code",
      "source": [
        "%pwd"
      ],
      "metadata": {
        "colab": {
          "base_uri": "https://localhost:8080/",
          "height": 35
        },
        "id": "cd3ty8MP6AAc",
        "outputId": "a4958496-255d-4c1e-f467-4a3fbfe8bb68"
      },
      "execution_count": 3,
      "outputs": [
        {
          "output_type": "execute_result",
          "data": {
            "application/vnd.google.colaboratory.intrinsic+json": {
              "type": "string"
            },
            "text/plain": [
              "'/content'"
            ]
          },
          "metadata": {},
          "execution_count": 3
        }
      ]
    },
    {
      "cell_type": "code",
      "execution_count": 2,
      "metadata": {
        "id": "9pGGjrve9Awx"
      },
      "outputs": [],
      "source": [
        "df = pd.read_csv('/content/kompas-Jan29-2022.csv')"
      ]
    },
    {
      "cell_type": "code",
      "execution_count": 3,
      "metadata": {
        "id": "ztyFQ66k9Aw1",
        "colab": {
          "base_uri": "https://localhost:8080/",
          "height": 206
        },
        "outputId": "bec9d178-d7f9-4414-e16c-4360bba6d307"
      },
      "outputs": [
        {
          "output_type": "execute_result",
          "data": {
            "text/html": [
              "\n",
              "  <div id=\"df-9409ab01-cb02-4283-b24e-22e627490f39\">\n",
              "    <div class=\"colab-df-container\">\n",
              "      <div>\n",
              "<style scoped>\n",
              "    .dataframe tbody tr th:only-of-type {\n",
              "        vertical-align: middle;\n",
              "    }\n",
              "\n",
              "    .dataframe tbody tr th {\n",
              "        vertical-align: top;\n",
              "    }\n",
              "\n",
              "    .dataframe thead th {\n",
              "        text-align: right;\n",
              "    }\n",
              "</style>\n",
              "<table border=\"1\" class=\"dataframe\">\n",
              "  <thead>\n",
              "    <tr style=\"text-align: right;\">\n",
              "      <th></th>\n",
              "      <th>judul</th>\n",
              "      <th>kategori</th>\n",
              "      <th>tanggal_upload</th>\n",
              "      <th>waktu_upload</th>\n",
              "      <th>link_berita</th>\n",
              "    </tr>\n",
              "  </thead>\n",
              "  <tbody>\n",
              "    <tr>\n",
              "      <th>0</th>\n",
              "      <td>Indonesia Kini Punya Sertifikat Vaksin Interna...</td>\n",
              "      <td>WIKEN</td>\n",
              "      <td>29/01/2022</td>\n",
              "      <td>22:03 WIB</td>\n",
              "      <td>https://www.kompas.com/wiken/read/2022/01/29/2...</td>\n",
              "    </tr>\n",
              "    <tr>\n",
              "      <th>1</th>\n",
              "      <td>Resep Ayam Bakar Klaten, Aromanya Gurih karena...</td>\n",
              "      <td>FOOD</td>\n",
              "      <td>29/01/2022</td>\n",
              "      <td>22:03 WIB</td>\n",
              "      <td>https://www.kompas.com/food/read/2022/01/29/22...</td>\n",
              "    </tr>\n",
              "    <tr>\n",
              "      <th>2</th>\n",
              "      <td>FOTO: Setelah Tercemar Tumpahan Minyak, Pantai...</td>\n",
              "      <td>GLOBAL</td>\n",
              "      <td>29/01/2022</td>\n",
              "      <td>22:01 WIB</td>\n",
              "      <td>https://www.kompas.com/global/read/2022/01/29/...</td>\n",
              "    </tr>\n",
              "    <tr>\n",
              "      <th>3</th>\n",
              "      <td>Resmi ke Juventus, Buffon Sandingkan Dusan Vla...</td>\n",
              "      <td>BOLA</td>\n",
              "      <td>29/01/2022</td>\n",
              "      <td>22:00 WIB</td>\n",
              "      <td>https://bola.kompas.com/read/2022/01/29/220000...</td>\n",
              "    </tr>\n",
              "    <tr>\n",
              "      <th>4</th>\n",
              "      <td>6 Penyebab Vagina Gatal</td>\n",
              "      <td>HEALTH</td>\n",
              "      <td>29/01/2022</td>\n",
              "      <td>22:00 WIB</td>\n",
              "      <td>https://health.kompas.com/read/2022/01/29/2200...</td>\n",
              "    </tr>\n",
              "  </tbody>\n",
              "</table>\n",
              "</div>\n",
              "      <button class=\"colab-df-convert\" onclick=\"convertToInteractive('df-9409ab01-cb02-4283-b24e-22e627490f39')\"\n",
              "              title=\"Convert this dataframe to an interactive table.\"\n",
              "              style=\"display:none;\">\n",
              "        \n",
              "  <svg xmlns=\"http://www.w3.org/2000/svg\" height=\"24px\"viewBox=\"0 0 24 24\"\n",
              "       width=\"24px\">\n",
              "    <path d=\"M0 0h24v24H0V0z\" fill=\"none\"/>\n",
              "    <path d=\"M18.56 5.44l.94 2.06.94-2.06 2.06-.94-2.06-.94-.94-2.06-.94 2.06-2.06.94zm-11 1L8.5 8.5l.94-2.06 2.06-.94-2.06-.94L8.5 2.5l-.94 2.06-2.06.94zm10 10l.94 2.06.94-2.06 2.06-.94-2.06-.94-.94-2.06-.94 2.06-2.06.94z\"/><path d=\"M17.41 7.96l-1.37-1.37c-.4-.4-.92-.59-1.43-.59-.52 0-1.04.2-1.43.59L10.3 9.45l-7.72 7.72c-.78.78-.78 2.05 0 2.83L4 21.41c.39.39.9.59 1.41.59.51 0 1.02-.2 1.41-.59l7.78-7.78 2.81-2.81c.8-.78.8-2.07 0-2.86zM5.41 20L4 18.59l7.72-7.72 1.47 1.35L5.41 20z\"/>\n",
              "  </svg>\n",
              "      </button>\n",
              "      \n",
              "  <style>\n",
              "    .colab-df-container {\n",
              "      display:flex;\n",
              "      flex-wrap:wrap;\n",
              "      gap: 12px;\n",
              "    }\n",
              "\n",
              "    .colab-df-convert {\n",
              "      background-color: #E8F0FE;\n",
              "      border: none;\n",
              "      border-radius: 50%;\n",
              "      cursor: pointer;\n",
              "      display: none;\n",
              "      fill: #1967D2;\n",
              "      height: 32px;\n",
              "      padding: 0 0 0 0;\n",
              "      width: 32px;\n",
              "    }\n",
              "\n",
              "    .colab-df-convert:hover {\n",
              "      background-color: #E2EBFA;\n",
              "      box-shadow: 0px 1px 2px rgba(60, 64, 67, 0.3), 0px 1px 3px 1px rgba(60, 64, 67, 0.15);\n",
              "      fill: #174EA6;\n",
              "    }\n",
              "\n",
              "    [theme=dark] .colab-df-convert {\n",
              "      background-color: #3B4455;\n",
              "      fill: #D2E3FC;\n",
              "    }\n",
              "\n",
              "    [theme=dark] .colab-df-convert:hover {\n",
              "      background-color: #434B5C;\n",
              "      box-shadow: 0px 1px 3px 1px rgba(0, 0, 0, 0.15);\n",
              "      filter: drop-shadow(0px 1px 2px rgba(0, 0, 0, 0.3));\n",
              "      fill: #FFFFFF;\n",
              "    }\n",
              "  </style>\n",
              "\n",
              "      <script>\n",
              "        const buttonEl =\n",
              "          document.querySelector('#df-9409ab01-cb02-4283-b24e-22e627490f39 button.colab-df-convert');\n",
              "        buttonEl.style.display =\n",
              "          google.colab.kernel.accessAllowed ? 'block' : 'none';\n",
              "\n",
              "        async function convertToInteractive(key) {\n",
              "          const element = document.querySelector('#df-9409ab01-cb02-4283-b24e-22e627490f39');\n",
              "          const dataTable =\n",
              "            await google.colab.kernel.invokeFunction('convertToInteractive',\n",
              "                                                     [key], {});\n",
              "          if (!dataTable) return;\n",
              "\n",
              "          const docLinkHtml = 'Like what you see? Visit the ' +\n",
              "            '<a target=\"_blank\" href=https://colab.research.google.com/notebooks/data_table.ipynb>data table notebook</a>'\n",
              "            + ' to learn more about interactive tables.';\n",
              "          element.innerHTML = '';\n",
              "          dataTable['output_type'] = 'display_data';\n",
              "          await google.colab.output.renderOutput(dataTable, element);\n",
              "          const docLink = document.createElement('div');\n",
              "          docLink.innerHTML = docLinkHtml;\n",
              "          element.appendChild(docLink);\n",
              "        }\n",
              "      </script>\n",
              "    </div>\n",
              "  </div>\n",
              "  "
            ],
            "text/plain": [
              "                                               judul  ...                                        link_berita\n",
              "0  Indonesia Kini Punya Sertifikat Vaksin Interna...  ...  https://www.kompas.com/wiken/read/2022/01/29/2...\n",
              "1  Resep Ayam Bakar Klaten, Aromanya Gurih karena...  ...  https://www.kompas.com/food/read/2022/01/29/22...\n",
              "2  FOTO: Setelah Tercemar Tumpahan Minyak, Pantai...  ...  https://www.kompas.com/global/read/2022/01/29/...\n",
              "3  Resmi ke Juventus, Buffon Sandingkan Dusan Vla...  ...  https://bola.kompas.com/read/2022/01/29/220000...\n",
              "4                            6 Penyebab Vagina Gatal  ...  https://health.kompas.com/read/2022/01/29/2200...\n",
              "\n",
              "[5 rows x 5 columns]"
            ]
          },
          "metadata": {},
          "execution_count": 3
        }
      ],
      "source": [
        "df.head()"
      ]
    },
    {
      "cell_type": "code",
      "source": [
        "df.info()"
      ],
      "metadata": {
        "colab": {
          "base_uri": "https://localhost:8080/"
        },
        "id": "hpc458ui7AAw",
        "outputId": "584328bf-190b-46cf-ef6d-6ec82fbba1f5"
      },
      "execution_count": 4,
      "outputs": [
        {
          "output_type": "stream",
          "name": "stdout",
          "text": [
            "<class 'pandas.core.frame.DataFrame'>\n",
            "RangeIndex: 3075 entries, 0 to 3074\n",
            "Data columns (total 5 columns):\n",
            " #   Column          Non-Null Count  Dtype \n",
            "---  ------          --------------  ----- \n",
            " 0   judul           3075 non-null   object\n",
            " 1   kategori        3075 non-null   object\n",
            " 2   tanggal_upload  3075 non-null   object\n",
            " 3   waktu_upload    3075 non-null   object\n",
            " 4   link_berita     3075 non-null   object\n",
            "dtypes: object(5)\n",
            "memory usage: 120.2+ KB\n"
          ]
        }
      ]
    },
    {
      "cell_type": "code",
      "source": [
        "df.describe()"
      ],
      "metadata": {
        "id": "DotUjypzztdJ",
        "outputId": "e865451d-a594-4fdc-eddb-a630cdb61b3a",
        "colab": {
          "base_uri": "https://localhost:8080/",
          "height": 360
        }
      },
      "execution_count": 76,
      "outputs": [
        {
          "output_type": "execute_result",
          "data": {
            "text/html": [
              "\n",
              "  <div id=\"df-4b0947b8-86bc-4856-9993-13d4e307ed68\">\n",
              "    <div class=\"colab-df-container\">\n",
              "      <div>\n",
              "<style scoped>\n",
              "    .dataframe tbody tr th:only-of-type {\n",
              "        vertical-align: middle;\n",
              "    }\n",
              "\n",
              "    .dataframe tbody tr th {\n",
              "        vertical-align: top;\n",
              "    }\n",
              "\n",
              "    .dataframe thead th {\n",
              "        text-align: right;\n",
              "    }\n",
              "</style>\n",
              "<table border=\"1\" class=\"dataframe\">\n",
              "  <thead>\n",
              "    <tr style=\"text-align: right;\">\n",
              "      <th></th>\n",
              "      <th>judul</th>\n",
              "      <th>kategori</th>\n",
              "      <th>tanggal_upload</th>\n",
              "      <th>waktu_upload</th>\n",
              "      <th>link_berita</th>\n",
              "      <th>lower_judul</th>\n",
              "      <th>normalisasi</th>\n",
              "      <th>remove_stopword_with_sastrawi</th>\n",
              "      <th>stemmed</th>\n",
              "      <th>removed_stopword_nlp_id</th>\n",
              "      <th>lemmatized</th>\n",
              "    </tr>\n",
              "  </thead>\n",
              "  <tbody>\n",
              "    <tr>\n",
              "      <th>count</th>\n",
              "      <td>3075</td>\n",
              "      <td>3075</td>\n",
              "      <td>3075</td>\n",
              "      <td>3075</td>\n",
              "      <td>3075</td>\n",
              "      <td>3075</td>\n",
              "      <td>3075</td>\n",
              "      <td>3075</td>\n",
              "      <td>3075</td>\n",
              "      <td>3075</td>\n",
              "      <td>3075</td>\n",
              "    </tr>\n",
              "    <tr>\n",
              "      <th>unique</th>\n",
              "      <td>3071</td>\n",
              "      <td>25</td>\n",
              "      <td>4</td>\n",
              "      <td>981</td>\n",
              "      <td>3072</td>\n",
              "      <td>3071</td>\n",
              "      <td>3046</td>\n",
              "      <td>3045</td>\n",
              "      <td>3045</td>\n",
              "      <td>3042</td>\n",
              "      <td>3042</td>\n",
              "    </tr>\n",
              "    <tr>\n",
              "      <th>top</th>\n",
              "      <td>Skema Kredit Motor Baru Yamaha Fazzio di Solo,...</td>\n",
              "      <td>REGIONAL</td>\n",
              "      <td>27/01/2022</td>\n",
              "      <td>09:00 WIB</td>\n",
              "      <td>https://www.kompas.com/wiken/read/2022/01/29/0...</td>\n",
              "      <td>rincian harga emas hari ini di pegadaian, dari...</td>\n",
              "      <td>prakiraan cuaca di surabaya hari ini januari</td>\n",
              "      <td>prakiraan cuaca denpasar hari januari</td>\n",
              "      <td>prakira cuaca surabaya hari januari</td>\n",
              "      <td>prakiraan cuaca yogyakarta januari</td>\n",
              "      <td>prakira cuaca malang januari</td>\n",
              "    </tr>\n",
              "    <tr>\n",
              "      <th>freq</th>\n",
              "      <td>2</td>\n",
              "      <td>578</td>\n",
              "      <td>1140</td>\n",
              "      <td>22</td>\n",
              "      <td>2</td>\n",
              "      <td>2</td>\n",
              "      <td>3</td>\n",
              "      <td>3</td>\n",
              "      <td>3</td>\n",
              "      <td>3</td>\n",
              "      <td>3</td>\n",
              "    </tr>\n",
              "  </tbody>\n",
              "</table>\n",
              "</div>\n",
              "      <button class=\"colab-df-convert\" onclick=\"convertToInteractive('df-4b0947b8-86bc-4856-9993-13d4e307ed68')\"\n",
              "              title=\"Convert this dataframe to an interactive table.\"\n",
              "              style=\"display:none;\">\n",
              "        \n",
              "  <svg xmlns=\"http://www.w3.org/2000/svg\" height=\"24px\"viewBox=\"0 0 24 24\"\n",
              "       width=\"24px\">\n",
              "    <path d=\"M0 0h24v24H0V0z\" fill=\"none\"/>\n",
              "    <path d=\"M18.56 5.44l.94 2.06.94-2.06 2.06-.94-2.06-.94-.94-2.06-.94 2.06-2.06.94zm-11 1L8.5 8.5l.94-2.06 2.06-.94-2.06-.94L8.5 2.5l-.94 2.06-2.06.94zm10 10l.94 2.06.94-2.06 2.06-.94-2.06-.94-.94-2.06-.94 2.06-2.06.94z\"/><path d=\"M17.41 7.96l-1.37-1.37c-.4-.4-.92-.59-1.43-.59-.52 0-1.04.2-1.43.59L10.3 9.45l-7.72 7.72c-.78.78-.78 2.05 0 2.83L4 21.41c.39.39.9.59 1.41.59.51 0 1.02-.2 1.41-.59l7.78-7.78 2.81-2.81c.8-.78.8-2.07 0-2.86zM5.41 20L4 18.59l7.72-7.72 1.47 1.35L5.41 20z\"/>\n",
              "  </svg>\n",
              "      </button>\n",
              "      \n",
              "  <style>\n",
              "    .colab-df-container {\n",
              "      display:flex;\n",
              "      flex-wrap:wrap;\n",
              "      gap: 12px;\n",
              "    }\n",
              "\n",
              "    .colab-df-convert {\n",
              "      background-color: #E8F0FE;\n",
              "      border: none;\n",
              "      border-radius: 50%;\n",
              "      cursor: pointer;\n",
              "      display: none;\n",
              "      fill: #1967D2;\n",
              "      height: 32px;\n",
              "      padding: 0 0 0 0;\n",
              "      width: 32px;\n",
              "    }\n",
              "\n",
              "    .colab-df-convert:hover {\n",
              "      background-color: #E2EBFA;\n",
              "      box-shadow: 0px 1px 2px rgba(60, 64, 67, 0.3), 0px 1px 3px 1px rgba(60, 64, 67, 0.15);\n",
              "      fill: #174EA6;\n",
              "    }\n",
              "\n",
              "    [theme=dark] .colab-df-convert {\n",
              "      background-color: #3B4455;\n",
              "      fill: #D2E3FC;\n",
              "    }\n",
              "\n",
              "    [theme=dark] .colab-df-convert:hover {\n",
              "      background-color: #434B5C;\n",
              "      box-shadow: 0px 1px 3px 1px rgba(0, 0, 0, 0.15);\n",
              "      filter: drop-shadow(0px 1px 2px rgba(0, 0, 0, 0.3));\n",
              "      fill: #FFFFFF;\n",
              "    }\n",
              "  </style>\n",
              "\n",
              "      <script>\n",
              "        const buttonEl =\n",
              "          document.querySelector('#df-4b0947b8-86bc-4856-9993-13d4e307ed68 button.colab-df-convert');\n",
              "        buttonEl.style.display =\n",
              "          google.colab.kernel.accessAllowed ? 'block' : 'none';\n",
              "\n",
              "        async function convertToInteractive(key) {\n",
              "          const element = document.querySelector('#df-4b0947b8-86bc-4856-9993-13d4e307ed68');\n",
              "          const dataTable =\n",
              "            await google.colab.kernel.invokeFunction('convertToInteractive',\n",
              "                                                     [key], {});\n",
              "          if (!dataTable) return;\n",
              "\n",
              "          const docLinkHtml = 'Like what you see? Visit the ' +\n",
              "            '<a target=\"_blank\" href=https://colab.research.google.com/notebooks/data_table.ipynb>data table notebook</a>'\n",
              "            + ' to learn more about interactive tables.';\n",
              "          element.innerHTML = '';\n",
              "          dataTable['output_type'] = 'display_data';\n",
              "          await google.colab.output.renderOutput(dataTable, element);\n",
              "          const docLink = document.createElement('div');\n",
              "          docLink.innerHTML = docLinkHtml;\n",
              "          element.appendChild(docLink);\n",
              "        }\n",
              "      </script>\n",
              "    </div>\n",
              "  </div>\n",
              "  "
            ],
            "text/plain": [
              "                                                    judul  ...                    lemmatized\n",
              "count                                                3075  ...                          3075\n",
              "unique                                               3071  ...                          3042\n",
              "top     Skema Kredit Motor Baru Yamaha Fazzio di Solo,...  ...  prakira cuaca malang januari\n",
              "freq                                                    2  ...                             3\n",
              "\n",
              "[4 rows x 11 columns]"
            ]
          },
          "metadata": {},
          "execution_count": 76
        }
      ]
    },
    {
      "cell_type": "markdown",
      "metadata": {
        "id": "Mt9-eWQc9AxC"
      },
      "source": [
        "# Text Lowering"
      ]
    },
    {
      "cell_type": "code",
      "execution_count": 5,
      "metadata": {
        "id": "DmDoaZHT9AxI"
      },
      "outputs": [],
      "source": [
        "text = \"Selamat datang di Online Bootcamp Python dengan tema Data Mining.\""
      ]
    },
    {
      "cell_type": "code",
      "execution_count": 6,
      "metadata": {
        "id": "zZJ67J7f9AxR"
      },
      "outputs": [],
      "source": [
        "text = text.lower()"
      ]
    },
    {
      "cell_type": "code",
      "execution_count": 7,
      "metadata": {
        "id": "LCd8w-v79AxT",
        "colab": {
          "base_uri": "https://localhost:8080/",
          "height": 35
        },
        "outputId": "af93c4d8-352c-4486-9f74-e1b611b48318"
      },
      "outputs": [
        {
          "output_type": "execute_result",
          "data": {
            "application/vnd.google.colaboratory.intrinsic+json": {
              "type": "string"
            },
            "text/plain": [
              "'selamat datang di online bootcamp python dengan tema data mining.'"
            ]
          },
          "metadata": {},
          "execution_count": 7
        }
      ],
      "source": [
        "text"
      ]
    },
    {
      "cell_type": "code",
      "source": [
        "def text_lowering(text):\n",
        "  return text.lower()"
      ],
      "metadata": {
        "id": "iQ4Qu-0z8B91"
      },
      "execution_count": 8,
      "outputs": []
    },
    {
      "cell_type": "markdown",
      "metadata": {
        "id": "c0f784vi9AxZ"
      },
      "source": [
        "You can try to lower all the text in dataframe"
      ]
    },
    {
      "cell_type": "code",
      "execution_count": 9,
      "metadata": {
        "id": "4Zv0DyhW9Axb"
      },
      "outputs": [],
      "source": [
        "df['lower_judul'] = df['judul'].apply(text_lowering)"
      ]
    },
    {
      "cell_type": "code",
      "execution_count": 10,
      "metadata": {
        "id": "fKwyDWQr9Axc",
        "colab": {
          "base_uri": "https://localhost:8080/"
        },
        "outputId": "fa6a0091-b4e2-4cbe-a11c-271444e88c55"
      },
      "outputs": [
        {
          "output_type": "stream",
          "name": "stdout",
          "text": [
            "<class 'pandas.core.frame.DataFrame'>\n",
            "RangeIndex: 3075 entries, 0 to 3074\n",
            "Data columns (total 6 columns):\n",
            " #   Column          Non-Null Count  Dtype \n",
            "---  ------          --------------  ----- \n",
            " 0   judul           3075 non-null   object\n",
            " 1   kategori        3075 non-null   object\n",
            " 2   tanggal_upload  3075 non-null   object\n",
            " 3   waktu_upload    3075 non-null   object\n",
            " 4   link_berita     3075 non-null   object\n",
            " 5   lower_judul     3075 non-null   object\n",
            "dtypes: object(6)\n",
            "memory usage: 144.3+ KB\n"
          ]
        }
      ],
      "source": [
        "df.info()"
      ]
    },
    {
      "cell_type": "code",
      "source": [
        "df.head()"
      ],
      "metadata": {
        "colab": {
          "base_uri": "https://localhost:8080/",
          "height": 319
        },
        "id": "3fX3-XnA8VFE",
        "outputId": "b219fe46-e99e-48a2-8ed4-9c36fbbcc41b"
      },
      "execution_count": 11,
      "outputs": [
        {
          "output_type": "execute_result",
          "data": {
            "text/html": [
              "\n",
              "  <div id=\"df-c7d2ee21-3870-43b7-a0fa-8af374a6e48f\">\n",
              "    <div class=\"colab-df-container\">\n",
              "      <div>\n",
              "<style scoped>\n",
              "    .dataframe tbody tr th:only-of-type {\n",
              "        vertical-align: middle;\n",
              "    }\n",
              "\n",
              "    .dataframe tbody tr th {\n",
              "        vertical-align: top;\n",
              "    }\n",
              "\n",
              "    .dataframe thead th {\n",
              "        text-align: right;\n",
              "    }\n",
              "</style>\n",
              "<table border=\"1\" class=\"dataframe\">\n",
              "  <thead>\n",
              "    <tr style=\"text-align: right;\">\n",
              "      <th></th>\n",
              "      <th>judul</th>\n",
              "      <th>kategori</th>\n",
              "      <th>tanggal_upload</th>\n",
              "      <th>waktu_upload</th>\n",
              "      <th>link_berita</th>\n",
              "      <th>lower_judul</th>\n",
              "    </tr>\n",
              "  </thead>\n",
              "  <tbody>\n",
              "    <tr>\n",
              "      <th>0</th>\n",
              "      <td>Indonesia Kini Punya Sertifikat Vaksin Interna...</td>\n",
              "      <td>WIKEN</td>\n",
              "      <td>29/01/2022</td>\n",
              "      <td>22:03 WIB</td>\n",
              "      <td>https://www.kompas.com/wiken/read/2022/01/29/2...</td>\n",
              "      <td>indonesia kini punya sertifikat vaksin interna...</td>\n",
              "    </tr>\n",
              "    <tr>\n",
              "      <th>1</th>\n",
              "      <td>Resep Ayam Bakar Klaten, Aromanya Gurih karena...</td>\n",
              "      <td>FOOD</td>\n",
              "      <td>29/01/2022</td>\n",
              "      <td>22:03 WIB</td>\n",
              "      <td>https://www.kompas.com/food/read/2022/01/29/22...</td>\n",
              "      <td>resep ayam bakar klaten, aromanya gurih karena...</td>\n",
              "    </tr>\n",
              "    <tr>\n",
              "      <th>2</th>\n",
              "      <td>FOTO: Setelah Tercemar Tumpahan Minyak, Pantai...</td>\n",
              "      <td>GLOBAL</td>\n",
              "      <td>29/01/2022</td>\n",
              "      <td>22:01 WIB</td>\n",
              "      <td>https://www.kompas.com/global/read/2022/01/29/...</td>\n",
              "      <td>foto: setelah tercemar tumpahan minyak, pantai...</td>\n",
              "    </tr>\n",
              "    <tr>\n",
              "      <th>3</th>\n",
              "      <td>Resmi ke Juventus, Buffon Sandingkan Dusan Vla...</td>\n",
              "      <td>BOLA</td>\n",
              "      <td>29/01/2022</td>\n",
              "      <td>22:00 WIB</td>\n",
              "      <td>https://bola.kompas.com/read/2022/01/29/220000...</td>\n",
              "      <td>resmi ke juventus, buffon sandingkan dusan vla...</td>\n",
              "    </tr>\n",
              "    <tr>\n",
              "      <th>4</th>\n",
              "      <td>6 Penyebab Vagina Gatal</td>\n",
              "      <td>HEALTH</td>\n",
              "      <td>29/01/2022</td>\n",
              "      <td>22:00 WIB</td>\n",
              "      <td>https://health.kompas.com/read/2022/01/29/2200...</td>\n",
              "      <td>6 penyebab vagina gatal</td>\n",
              "    </tr>\n",
              "  </tbody>\n",
              "</table>\n",
              "</div>\n",
              "      <button class=\"colab-df-convert\" onclick=\"convertToInteractive('df-c7d2ee21-3870-43b7-a0fa-8af374a6e48f')\"\n",
              "              title=\"Convert this dataframe to an interactive table.\"\n",
              "              style=\"display:none;\">\n",
              "        \n",
              "  <svg xmlns=\"http://www.w3.org/2000/svg\" height=\"24px\"viewBox=\"0 0 24 24\"\n",
              "       width=\"24px\">\n",
              "    <path d=\"M0 0h24v24H0V0z\" fill=\"none\"/>\n",
              "    <path d=\"M18.56 5.44l.94 2.06.94-2.06 2.06-.94-2.06-.94-.94-2.06-.94 2.06-2.06.94zm-11 1L8.5 8.5l.94-2.06 2.06-.94-2.06-.94L8.5 2.5l-.94 2.06-2.06.94zm10 10l.94 2.06.94-2.06 2.06-.94-2.06-.94-.94-2.06-.94 2.06-2.06.94z\"/><path d=\"M17.41 7.96l-1.37-1.37c-.4-.4-.92-.59-1.43-.59-.52 0-1.04.2-1.43.59L10.3 9.45l-7.72 7.72c-.78.78-.78 2.05 0 2.83L4 21.41c.39.39.9.59 1.41.59.51 0 1.02-.2 1.41-.59l7.78-7.78 2.81-2.81c.8-.78.8-2.07 0-2.86zM5.41 20L4 18.59l7.72-7.72 1.47 1.35L5.41 20z\"/>\n",
              "  </svg>\n",
              "      </button>\n",
              "      \n",
              "  <style>\n",
              "    .colab-df-container {\n",
              "      display:flex;\n",
              "      flex-wrap:wrap;\n",
              "      gap: 12px;\n",
              "    }\n",
              "\n",
              "    .colab-df-convert {\n",
              "      background-color: #E8F0FE;\n",
              "      border: none;\n",
              "      border-radius: 50%;\n",
              "      cursor: pointer;\n",
              "      display: none;\n",
              "      fill: #1967D2;\n",
              "      height: 32px;\n",
              "      padding: 0 0 0 0;\n",
              "      width: 32px;\n",
              "    }\n",
              "\n",
              "    .colab-df-convert:hover {\n",
              "      background-color: #E2EBFA;\n",
              "      box-shadow: 0px 1px 2px rgba(60, 64, 67, 0.3), 0px 1px 3px 1px rgba(60, 64, 67, 0.15);\n",
              "      fill: #174EA6;\n",
              "    }\n",
              "\n",
              "    [theme=dark] .colab-df-convert {\n",
              "      background-color: #3B4455;\n",
              "      fill: #D2E3FC;\n",
              "    }\n",
              "\n",
              "    [theme=dark] .colab-df-convert:hover {\n",
              "      background-color: #434B5C;\n",
              "      box-shadow: 0px 1px 3px 1px rgba(0, 0, 0, 0.15);\n",
              "      filter: drop-shadow(0px 1px 2px rgba(0, 0, 0, 0.3));\n",
              "      fill: #FFFFFF;\n",
              "    }\n",
              "  </style>\n",
              "\n",
              "      <script>\n",
              "        const buttonEl =\n",
              "          document.querySelector('#df-c7d2ee21-3870-43b7-a0fa-8af374a6e48f button.colab-df-convert');\n",
              "        buttonEl.style.display =\n",
              "          google.colab.kernel.accessAllowed ? 'block' : 'none';\n",
              "\n",
              "        async function convertToInteractive(key) {\n",
              "          const element = document.querySelector('#df-c7d2ee21-3870-43b7-a0fa-8af374a6e48f');\n",
              "          const dataTable =\n",
              "            await google.colab.kernel.invokeFunction('convertToInteractive',\n",
              "                                                     [key], {});\n",
              "          if (!dataTable) return;\n",
              "\n",
              "          const docLinkHtml = 'Like what you see? Visit the ' +\n",
              "            '<a target=\"_blank\" href=https://colab.research.google.com/notebooks/data_table.ipynb>data table notebook</a>'\n",
              "            + ' to learn more about interactive tables.';\n",
              "          element.innerHTML = '';\n",
              "          dataTable['output_type'] = 'display_data';\n",
              "          await google.colab.output.renderOutput(dataTable, element);\n",
              "          const docLink = document.createElement('div');\n",
              "          docLink.innerHTML = docLinkHtml;\n",
              "          element.appendChild(docLink);\n",
              "        }\n",
              "      </script>\n",
              "    </div>\n",
              "  </div>\n",
              "  "
            ],
            "text/plain": [
              "                                               judul  ...                                        lower_judul\n",
              "0  Indonesia Kini Punya Sertifikat Vaksin Interna...  ...  indonesia kini punya sertifikat vaksin interna...\n",
              "1  Resep Ayam Bakar Klaten, Aromanya Gurih karena...  ...  resep ayam bakar klaten, aromanya gurih karena...\n",
              "2  FOTO: Setelah Tercemar Tumpahan Minyak, Pantai...  ...  foto: setelah tercemar tumpahan minyak, pantai...\n",
              "3  Resmi ke Juventus, Buffon Sandingkan Dusan Vla...  ...  resmi ke juventus, buffon sandingkan dusan vla...\n",
              "4                            6 Penyebab Vagina Gatal  ...                            6 penyebab vagina gatal\n",
              "\n",
              "[5 rows x 6 columns]"
            ]
          },
          "metadata": {},
          "execution_count": 11
        }
      ]
    },
    {
      "cell_type": "markdown",
      "metadata": {
        "id": "qhJHA-Bx9Axk"
      },
      "source": [
        "# Remove Numbers, Special Characters, and Extra Spaces\n",
        "\n",
        "Menghilangkan angka[0-9], karakter spesial [~!@#$%^&*()_+{{}|\":?><,./';], dan spasi tambahan"
      ]
    },
    {
      "cell_type": "code",
      "execution_count": 12,
      "metadata": {
        "id": "avyRNRS59Axm"
      },
      "outputs": [],
      "source": [
        "text = \"Selamat12 datang di()  Online Bootcamp; (!7Python dengan-- tema__Data~@Mining\""
      ]
    },
    {
      "cell_type": "code",
      "execution_count": 13,
      "metadata": {
        "id": "s1RU9Du39Axr"
      },
      "outputs": [],
      "source": [
        "import re"
      ]
    },
    {
      "cell_type": "code",
      "execution_count": 14,
      "metadata": {
        "id": "j74NqwZ39Ayh",
        "colab": {
          "base_uri": "https://localhost:8080/",
          "height": 35
        },
        "outputId": "3e8adf2a-ab34-4469-9152-6b8a5133d83c"
      },
      "outputs": [
        {
          "output_type": "execute_result",
          "data": {
            "application/vnd.google.colaboratory.intrinsic+json": {
              "type": "string"
            },
            "text/plain": [
              "'Selamat datang di()  Online Bootcamp; (!Python dengan-- tema__Data~@Mining'"
            ]
          },
          "metadata": {},
          "execution_count": 14
        }
      ],
      "source": [
        "# remove numbers\n",
        "text = re.sub(r'[0-9]+', '', text)\n",
        "text"
      ]
    },
    {
      "cell_type": "code",
      "execution_count": 15,
      "metadata": {
        "id": "8vVAkcM19AzI",
        "colab": {
          "base_uri": "https://localhost:8080/",
          "height": 35
        },
        "outputId": "5b4d50cc-5679-47e4-ecfa-fb1dd1fc2002"
      },
      "outputs": [
        {
          "output_type": "execute_result",
          "data": {
            "application/vnd.google.colaboratory.intrinsic+json": {
              "type": "string"
            },
            "text/plain": [
              "'Selamat datang di  Online Bootcamp Python dengan tema__DataMining'"
            ]
          },
          "metadata": {},
          "execution_count": 15
        }
      ],
      "source": [
        "# remove special characters\n",
        "text = re.sub(r'[^\\w\\s]', '', text)\n",
        "text"
      ]
    },
    {
      "cell_type": "code",
      "source": [
        "# remove underscores\n",
        "text = text.replace('_', ' ')\n",
        "text"
      ],
      "metadata": {
        "colab": {
          "base_uri": "https://localhost:8080/",
          "height": 35
        },
        "id": "-Sk-JAun_p5u",
        "outputId": "bf3b3285-13e1-452b-e1f0-73418cc34b30"
      },
      "execution_count": 16,
      "outputs": [
        {
          "output_type": "execute_result",
          "data": {
            "application/vnd.google.colaboratory.intrinsic+json": {
              "type": "string"
            },
            "text/plain": [
              "'Selamat datang di  Online Bootcamp Python dengan tema  DataMining'"
            ]
          },
          "metadata": {},
          "execution_count": 16
        }
      ]
    },
    {
      "cell_type": "code",
      "source": [
        "text_list = text.split()\n",
        "text_list"
      ],
      "metadata": {
        "colab": {
          "base_uri": "https://localhost:8080/"
        },
        "id": "CnLd-0yOAJRA",
        "outputId": "3a785a8f-d305-46ae-91cf-f8623ba4823e"
      },
      "execution_count": 17,
      "outputs": [
        {
          "output_type": "execute_result",
          "data": {
            "text/plain": [
              "['Selamat',\n",
              " 'datang',\n",
              " 'di',\n",
              " 'Online',\n",
              " 'Bootcamp',\n",
              " 'Python',\n",
              " 'dengan',\n",
              " 'tema',\n",
              " 'DataMining']"
            ]
          },
          "metadata": {},
          "execution_count": 17
        }
      ]
    },
    {
      "cell_type": "code",
      "source": [
        "texted = ' '.join(text_list)"
      ],
      "metadata": {
        "id": "YwswryUDARCk"
      },
      "execution_count": 18,
      "outputs": []
    },
    {
      "cell_type": "code",
      "source": [
        "texted"
      ],
      "metadata": {
        "colab": {
          "base_uri": "https://localhost:8080/",
          "height": 35
        },
        "id": "pXksA_6KAW42",
        "outputId": "a85eee02-3857-48fe-9a89-ce0fbb839630"
      },
      "execution_count": 19,
      "outputs": [
        {
          "output_type": "execute_result",
          "data": {
            "application/vnd.google.colaboratory.intrinsic+json": {
              "type": "string"
            },
            "text/plain": [
              "'Selamat datang di Online Bootcamp Python dengan tema DataMining'"
            ]
          },
          "metadata": {},
          "execution_count": 19
        }
      ]
    },
    {
      "cell_type": "code",
      "execution_count": 20,
      "metadata": {
        "id": "lnD9jjxU9AzM",
        "colab": {
          "base_uri": "https://localhost:8080/",
          "height": 35
        },
        "outputId": "2cf9c79b-f92c-44ea-893d-0108043aaf86"
      },
      "outputs": [
        {
          "output_type": "execute_result",
          "data": {
            "application/vnd.google.colaboratory.intrinsic+json": {
              "type": "string"
            },
            "text/plain": [
              "'Selamat datang di Online Bootcamp Python dengan tema DataMining'"
            ]
          },
          "metadata": {},
          "execution_count": 20
        }
      ],
      "source": [
        "# remove extra spaces\n",
        "text = \" \".join(text.split())\n",
        "text"
      ]
    },
    {
      "cell_type": "markdown",
      "metadata": {
        "id": "u8FZUnww9AzP"
      },
      "source": [
        "Let's try into the dataframe"
      ]
    },
    {
      "cell_type": "code",
      "execution_count": 22,
      "metadata": {
        "id": "9kc0AtEx9AzS"
      },
      "outputs": [],
      "source": [
        "def normalisasi(text):\n",
        "  text = re.sub(r'[0-9]+', ' ', text)\n",
        "  text = re.sub(r'[^\\w\\s]', ' ', text)\n",
        "  text = \" \".join(text.split())\n",
        "  return text"
      ]
    },
    {
      "cell_type": "code",
      "source": [
        "df['normalisasi'] = df['lower_judul'].apply(normalisasi)"
      ],
      "metadata": {
        "id": "7otELh08EGlb"
      },
      "execution_count": 23,
      "outputs": []
    },
    {
      "cell_type": "code",
      "source": [
        "df[['lower_judul', 'normalisasi']][10:20]"
      ],
      "metadata": {
        "colab": {
          "base_uri": "https://localhost:8080/",
          "height": 363
        },
        "id": "6BYLqGDoESIr",
        "outputId": "f3449317-cc15-4e10-ac1d-fa48c998b6a0"
      },
      "execution_count": 24,
      "outputs": [
        {
          "output_type": "execute_result",
          "data": {
            "text/html": [
              "\n",
              "  <div id=\"df-42259790-021c-411a-9485-b250002a3886\">\n",
              "    <div class=\"colab-df-container\">\n",
              "      <div>\n",
              "<style scoped>\n",
              "    .dataframe tbody tr th:only-of-type {\n",
              "        vertical-align: middle;\n",
              "    }\n",
              "\n",
              "    .dataframe tbody tr th {\n",
              "        vertical-align: top;\n",
              "    }\n",
              "\n",
              "    .dataframe thead th {\n",
              "        text-align: right;\n",
              "    }\n",
              "</style>\n",
              "<table border=\"1\" class=\"dataframe\">\n",
              "  <thead>\n",
              "    <tr style=\"text-align: right;\">\n",
              "      <th></th>\n",
              "      <th>lower_judul</th>\n",
              "      <th>normalisasi</th>\n",
              "    </tr>\n",
              "  </thead>\n",
              "  <tbody>\n",
              "    <tr>\n",
              "      <th>10</th>\n",
              "      <td>gelar konser bintang di surga, noah tak sabar ...</td>\n",
              "      <td>gelar konser bintang di surga noah tak sabar s...</td>\n",
              "    </tr>\n",
              "    <tr>\n",
              "      <th>11</th>\n",
              "      <td>ketum pan: pemindahan ibu kota negara dari jak...</td>\n",
              "      <td>ketum pan pemindahan ibu kota negara dari jaka...</td>\n",
              "    </tr>\n",
              "    <tr>\n",
              "      <th>12</th>\n",
              "      <td>ketua umum pssi merasa ledakan kasus covid-19 ...</td>\n",
              "      <td>ketua umum pssi merasa ledakan kasus covid di ...</td>\n",
              "    </tr>\n",
              "    <tr>\n",
              "      <th>13</th>\n",
              "      <td>line up darurat persib vs persikabo: debut kak...</td>\n",
              "      <td>line up darurat persib vs persikabo debut kaka...</td>\n",
              "    </tr>\n",
              "    <tr>\n",
              "      <th>14</th>\n",
              "      <td>ganti seprai tempat tidur seminggu sekali, ini...</td>\n",
              "      <td>ganti seprai tempat tidur seminggu sekali ini ...</td>\n",
              "    </tr>\n",
              "    <tr>\n",
              "      <th>15</th>\n",
              "      <td>biar awet, ini 4 cara merawat tabung mesin cuci</td>\n",
              "      <td>biar awet ini cara merawat tabung mesin cuci</td>\n",
              "    </tr>\n",
              "    <tr>\n",
              "      <th>16</th>\n",
              "      <td>ht persib vs persikabo: kakang debut dan cetak...</td>\n",
              "      <td>ht persib vs persikabo kakang debut dan cetak ...</td>\n",
              "    </tr>\n",
              "    <tr>\n",
              "      <th>17</th>\n",
              "      <td>sinopsis film gone girl, misteri hilangnya pen...</td>\n",
              "      <td>sinopsis film gone girl misteri hilangnya penu...</td>\n",
              "    </tr>\n",
              "    <tr>\n",
              "      <th>18</th>\n",
              "      <td>pasukan ukraina berlatih tembakkan peluncur an...</td>\n",
              "      <td>pasukan ukraina berlatih tembakkan peluncur an...</td>\n",
              "    </tr>\n",
              "    <tr>\n",
              "      <th>19</th>\n",
              "      <td>viral, video petugas lempar barang dari atas p...</td>\n",
              "      <td>viral video petugas lempar barang dari atas pe...</td>\n",
              "    </tr>\n",
              "  </tbody>\n",
              "</table>\n",
              "</div>\n",
              "      <button class=\"colab-df-convert\" onclick=\"convertToInteractive('df-42259790-021c-411a-9485-b250002a3886')\"\n",
              "              title=\"Convert this dataframe to an interactive table.\"\n",
              "              style=\"display:none;\">\n",
              "        \n",
              "  <svg xmlns=\"http://www.w3.org/2000/svg\" height=\"24px\"viewBox=\"0 0 24 24\"\n",
              "       width=\"24px\">\n",
              "    <path d=\"M0 0h24v24H0V0z\" fill=\"none\"/>\n",
              "    <path d=\"M18.56 5.44l.94 2.06.94-2.06 2.06-.94-2.06-.94-.94-2.06-.94 2.06-2.06.94zm-11 1L8.5 8.5l.94-2.06 2.06-.94-2.06-.94L8.5 2.5l-.94 2.06-2.06.94zm10 10l.94 2.06.94-2.06 2.06-.94-2.06-.94-.94-2.06-.94 2.06-2.06.94z\"/><path d=\"M17.41 7.96l-1.37-1.37c-.4-.4-.92-.59-1.43-.59-.52 0-1.04.2-1.43.59L10.3 9.45l-7.72 7.72c-.78.78-.78 2.05 0 2.83L4 21.41c.39.39.9.59 1.41.59.51 0 1.02-.2 1.41-.59l7.78-7.78 2.81-2.81c.8-.78.8-2.07 0-2.86zM5.41 20L4 18.59l7.72-7.72 1.47 1.35L5.41 20z\"/>\n",
              "  </svg>\n",
              "      </button>\n",
              "      \n",
              "  <style>\n",
              "    .colab-df-container {\n",
              "      display:flex;\n",
              "      flex-wrap:wrap;\n",
              "      gap: 12px;\n",
              "    }\n",
              "\n",
              "    .colab-df-convert {\n",
              "      background-color: #E8F0FE;\n",
              "      border: none;\n",
              "      border-radius: 50%;\n",
              "      cursor: pointer;\n",
              "      display: none;\n",
              "      fill: #1967D2;\n",
              "      height: 32px;\n",
              "      padding: 0 0 0 0;\n",
              "      width: 32px;\n",
              "    }\n",
              "\n",
              "    .colab-df-convert:hover {\n",
              "      background-color: #E2EBFA;\n",
              "      box-shadow: 0px 1px 2px rgba(60, 64, 67, 0.3), 0px 1px 3px 1px rgba(60, 64, 67, 0.15);\n",
              "      fill: #174EA6;\n",
              "    }\n",
              "\n",
              "    [theme=dark] .colab-df-convert {\n",
              "      background-color: #3B4455;\n",
              "      fill: #D2E3FC;\n",
              "    }\n",
              "\n",
              "    [theme=dark] .colab-df-convert:hover {\n",
              "      background-color: #434B5C;\n",
              "      box-shadow: 0px 1px 3px 1px rgba(0, 0, 0, 0.15);\n",
              "      filter: drop-shadow(0px 1px 2px rgba(0, 0, 0, 0.3));\n",
              "      fill: #FFFFFF;\n",
              "    }\n",
              "  </style>\n",
              "\n",
              "      <script>\n",
              "        const buttonEl =\n",
              "          document.querySelector('#df-42259790-021c-411a-9485-b250002a3886 button.colab-df-convert');\n",
              "        buttonEl.style.display =\n",
              "          google.colab.kernel.accessAllowed ? 'block' : 'none';\n",
              "\n",
              "        async function convertToInteractive(key) {\n",
              "          const element = document.querySelector('#df-42259790-021c-411a-9485-b250002a3886');\n",
              "          const dataTable =\n",
              "            await google.colab.kernel.invokeFunction('convertToInteractive',\n",
              "                                                     [key], {});\n",
              "          if (!dataTable) return;\n",
              "\n",
              "          const docLinkHtml = 'Like what you see? Visit the ' +\n",
              "            '<a target=\"_blank\" href=https://colab.research.google.com/notebooks/data_table.ipynb>data table notebook</a>'\n",
              "            + ' to learn more about interactive tables.';\n",
              "          element.innerHTML = '';\n",
              "          dataTable['output_type'] = 'display_data';\n",
              "          await google.colab.output.renderOutput(dataTable, element);\n",
              "          const docLink = document.createElement('div');\n",
              "          docLink.innerHTML = docLinkHtml;\n",
              "          element.appendChild(docLink);\n",
              "        }\n",
              "      </script>\n",
              "    </div>\n",
              "  </div>\n",
              "  "
            ],
            "text/plain": [
              "                                          lower_judul                                        normalisasi\n",
              "10  gelar konser bintang di surga, noah tak sabar ...  gelar konser bintang di surga noah tak sabar s...\n",
              "11  ketum pan: pemindahan ibu kota negara dari jak...  ketum pan pemindahan ibu kota negara dari jaka...\n",
              "12  ketua umum pssi merasa ledakan kasus covid-19 ...  ketua umum pssi merasa ledakan kasus covid di ...\n",
              "13  line up darurat persib vs persikabo: debut kak...  line up darurat persib vs persikabo debut kaka...\n",
              "14  ganti seprai tempat tidur seminggu sekali, ini...  ganti seprai tempat tidur seminggu sekali ini ...\n",
              "15    biar awet, ini 4 cara merawat tabung mesin cuci       biar awet ini cara merawat tabung mesin cuci\n",
              "16  ht persib vs persikabo: kakang debut dan cetak...  ht persib vs persikabo kakang debut dan cetak ...\n",
              "17  sinopsis film gone girl, misteri hilangnya pen...  sinopsis film gone girl misteri hilangnya penu...\n",
              "18  pasukan ukraina berlatih tembakkan peluncur an...  pasukan ukraina berlatih tembakkan peluncur an...\n",
              "19  viral, video petugas lempar barang dari atas p...  viral video petugas lempar barang dari atas pe..."
            ]
          },
          "metadata": {},
          "execution_count": 24
        }
      ]
    },
    {
      "cell_type": "markdown",
      "metadata": {
        "id": "2PVpP0Ld9AzZ"
      },
      "source": [
        "# Stopword Removal\n",
        "\n",
        "Menghilangkan kata-kata yang tidak bermakna seperti kata hubung, kata ganti orang, dan sejenisnya."
      ]
    },
    {
      "cell_type": "code",
      "execution_count": 25,
      "metadata": {
        "id": "yrmcv7mr9Azd"
      },
      "outputs": [],
      "source": [
        "text = \"Selamat datang di Online Bootcamp Python dengan tema Data Mining. Apa kabar kalian semua?\""
      ]
    },
    {
      "cell_type": "markdown",
      "metadata": {
        "id": "S9GBbUxT9Aze"
      },
      "source": [
        "- Library Sastrawi"
      ]
    },
    {
      "cell_type": "code",
      "execution_count": 26,
      "metadata": {
        "id": "8bM6c5l_9Azf"
      },
      "outputs": [],
      "source": [
        "from Sastrawi.StopWordRemover.StopWordRemoverFactory import StopWordRemoverFactory, StopWordRemover, ArrayDictionary"
      ]
    },
    {
      "cell_type": "code",
      "execution_count": 27,
      "metadata": {
        "id": "ILskV-OU9Azj"
      },
      "outputs": [],
      "source": [
        "# get list of stopwords\n",
        "stopword_list = StopWordRemoverFactory().get_stop_words()"
      ]
    },
    {
      "cell_type": "code",
      "execution_count": 28,
      "metadata": {
        "id": "nf6KTniM9Azk",
        "colab": {
          "base_uri": "https://localhost:8080/"
        },
        "outputId": "27c5790c-d52b-42be-d049-6bc5e0d1ecf1"
      },
      "outputs": [
        {
          "output_type": "execute_result",
          "data": {
            "text/plain": [
              "['yang',\n",
              " 'untuk',\n",
              " 'pada',\n",
              " 'ke',\n",
              " 'para',\n",
              " 'namun',\n",
              " 'menurut',\n",
              " 'antara',\n",
              " 'dia',\n",
              " 'dua']"
            ]
          },
          "metadata": {},
          "execution_count": 28
        }
      ],
      "source": [
        "stopword_list[:10]"
      ]
    },
    {
      "cell_type": "code",
      "execution_count": 29,
      "metadata": {
        "id": "WbrafP289Azt"
      },
      "outputs": [],
      "source": [
        "# create stopwords instance\n",
        "factory = StopWordRemoverFactory()\n",
        "stopwords = factory.create_stop_word_remover()"
      ]
    },
    {
      "cell_type": "code",
      "execution_count": 30,
      "metadata": {
        "id": "OqrY8q859Azu"
      },
      "outputs": [],
      "source": [
        "text = stopwords.remove(text)"
      ]
    },
    {
      "cell_type": "code",
      "execution_count": 31,
      "metadata": {
        "id": "L5rtnK3w9Azx",
        "colab": {
          "base_uri": "https://localhost:8080/",
          "height": 35
        },
        "outputId": "d3f0c376-76e1-464e-b04a-5ae98f5a2db9"
      },
      "outputs": [
        {
          "output_type": "execute_result",
          "data": {
            "application/vnd.google.colaboratory.intrinsic+json": {
              "type": "string"
            },
            "text/plain": [
              "'Selamat datang Online Bootcamp Python tema Data Mining. Apa kabar kalian semua?'"
            ]
          },
          "metadata": {},
          "execution_count": 31
        }
      ],
      "source": [
        "text"
      ]
    },
    {
      "cell_type": "code",
      "source": [
        "text = text.lower()"
      ],
      "metadata": {
        "id": "S5M_oZppLPcX"
      },
      "execution_count": 32,
      "outputs": []
    },
    {
      "cell_type": "markdown",
      "metadata": {
        "id": "oixQr3wU9Azy"
      },
      "source": [
        "Add new stopwords into existed stopwords"
      ]
    },
    {
      "cell_type": "code",
      "execution_count": 44,
      "metadata": {
        "id": "ouVt-nZ-9Az7"
      },
      "outputs": [],
      "source": [
        "# # create a new list of stopwords\n",
        "# new_stopwords = ['apa', 'selamat', 'kalian']\n",
        "\n",
        "# # add both stopwords \n",
        "# all_stopwords = stopword_list + new_stopwords\n",
        "\n",
        "# # create ArrayDictionary \n",
        "# stopword_dict = ArrayDictionary(all_stopwords)\n",
        "\n",
        "# sastrawi_stopwords = StopWordRemover(stopword_dict)"
      ]
    },
    {
      "cell_type": "code",
      "execution_count": 48,
      "metadata": {
        "id": "DWeaFLo39Az8",
        "colab": {
          "base_uri": "https://localhost:8080/",
          "height": 35
        },
        "outputId": "d588bf26-2744-416f-f9eb-91145cc8a379"
      },
      "outputs": [
        {
          "output_type": "execute_result",
          "data": {
            "application/vnd.google.colaboratory.intrinsic+json": {
              "type": "string"
            },
            "text/plain": [
              "'datang online bootcamp python tema data mining. kabar semua?'"
            ]
          },
          "metadata": {},
          "execution_count": 48
        }
      ],
      "source": [
        "# text = sastrawi_stopwords.remove(text)\n",
        "# text"
      ]
    },
    {
      "cell_type": "markdown",
      "metadata": {
        "id": "F_5VovI09Az9"
      },
      "source": [
        "- Library NLP ID"
      ]
    },
    {
      "cell_type": "code",
      "execution_count": 33,
      "metadata": {
        "id": "sUmOeR8Y9Az-"
      },
      "outputs": [],
      "source": [
        "from nlp_id.stopword import StopWord"
      ]
    },
    {
      "cell_type": "code",
      "execution_count": 35,
      "metadata": {
        "id": "TU2mbfqH9A0B"
      },
      "outputs": [],
      "source": [
        "# create instance stopword\n",
        "stopword = StopWord() \n",
        "# stopword.get_stopword()"
      ]
    },
    {
      "cell_type": "code",
      "execution_count": 36,
      "metadata": {
        "id": "U6ji9BEw9A0G"
      },
      "outputs": [],
      "source": [
        "text = \"Selamat datang di Online Bootcamp Python dengan tema Data Mining. Apa kabar kalian semua?\""
      ]
    },
    {
      "cell_type": "code",
      "execution_count": 37,
      "metadata": {
        "id": "Zp6BSbpP9A0L",
        "colab": {
          "base_uri": "https://localhost:8080/",
          "height": 35
        },
        "outputId": "b19ea844-e9e0-4294-ba28-56147e4c7797"
      },
      "outputs": [
        {
          "output_type": "execute_result",
          "data": {
            "application/vnd.google.colaboratory.intrinsic+json": {
              "type": "string"
            },
            "text/plain": [
              "'Selamat Online Bootcamp Python tema Data Mining. kabar?'"
            ]
          },
          "metadata": {},
          "execution_count": 37
        }
      ],
      "source": [
        "text = stopword.remove_stopword(text)\n",
        "text"
      ]
    },
    {
      "cell_type": "code",
      "source": [
        "def remove_stopword_with_nlp_id(text):\n",
        "  text = stopword.remove_stopword(text)\n",
        "  return text"
      ],
      "metadata": {
        "id": "r8jmuZOOw5e9"
      },
      "execution_count": 58,
      "outputs": []
    },
    {
      "cell_type": "code",
      "source": [
        "df['removed_stopword_nlp_id'] = df['normalisasi'].swifter.apply(remove_stopword_with_nlp_id)"
      ],
      "metadata": {
        "id": "MLrB-kXhxDVX",
        "outputId": "82a55fcd-1226-4c68-ecfe-fd203c8873a7",
        "colab": {
          "base_uri": "https://localhost:8080/",
          "height": 49,
          "referenced_widgets": [
            "655f5ba6d97f4677a214a2f0a0efcc25",
            "d186788a6d24464cb04b6da3c3323dda",
            "df4e48c105e14115b89add422d36b24c",
            "d5fc45c6030b46768400d0923d564b6b",
            "b7606b0b38f24584999962a647dd83dd",
            "55466243112c4e01800c9eb5779e977e",
            "f7642a44e43940cb82407af152d2a174",
            "697e12e5b6434a39b671caf042fea36c",
            "d41893606a3b46a4adb4ca95ccf8dce0",
            "a38dbba8866f440c9d68a2229abb7e3c",
            "29ac0a759f3849608fe6d6ada62fcb44"
          ]
        }
      },
      "execution_count": 59,
      "outputs": [
        {
          "output_type": "display_data",
          "data": {
            "application/vnd.jupyter.widget-view+json": {
              "model_id": "655f5ba6d97f4677a214a2f0a0efcc25",
              "version_minor": 0,
              "version_major": 2
            },
            "text/plain": [
              "Pandas Apply:   0%|          | 0/3075 [00:00<?, ?it/s]"
            ]
          },
          "metadata": {}
        }
      ]
    },
    {
      "cell_type": "code",
      "source": [
        "df.info()"
      ],
      "metadata": {
        "id": "3KcjgkR1xTcJ",
        "outputId": "f939e40f-5545-41ee-bf6c-f7f6a38615b6",
        "colab": {
          "base_uri": "https://localhost:8080/"
        }
      },
      "execution_count": 60,
      "outputs": [
        {
          "output_type": "stream",
          "name": "stdout",
          "text": [
            "<class 'pandas.core.frame.DataFrame'>\n",
            "RangeIndex: 3075 entries, 0 to 3074\n",
            "Data columns (total 10 columns):\n",
            " #   Column                         Non-Null Count  Dtype \n",
            "---  ------                         --------------  ----- \n",
            " 0   judul                          3075 non-null   object\n",
            " 1   kategori                       3075 non-null   object\n",
            " 2   tanggal_upload                 3075 non-null   object\n",
            " 3   waktu_upload                   3075 non-null   object\n",
            " 4   link_berita                    3075 non-null   object\n",
            " 5   lower_judul                    3075 non-null   object\n",
            " 6   normalisasi                    3075 non-null   object\n",
            " 7   remove_stopword_with_sastrawi  3075 non-null   object\n",
            " 8   stemmed                        3075 non-null   object\n",
            " 9   removed_stopword_nlp_id        3075 non-null   object\n",
            "dtypes: object(10)\n",
            "memory usage: 240.4+ KB\n"
          ]
        }
      ]
    },
    {
      "cell_type": "markdown",
      "metadata": {
        "id": "4JIKvebo9A0M"
      },
      "source": [
        "Let's try into dataframe"
      ]
    },
    {
      "cell_type": "code",
      "execution_count": 39,
      "metadata": {
        "id": "Hn6WJeBv9A0O"
      },
      "outputs": [],
      "source": [
        "def remove_stopword_with_sastrawi(text):\n",
        "  text = stopwords.remove(text)\n",
        "  return text"
      ]
    },
    {
      "cell_type": "code",
      "source": [
        "df['remove_stopword_with_sastrawi'] = df['normalisasi'].apply(remove_stopword_with_sastrawi)"
      ],
      "metadata": {
        "id": "4f_hJu6zEPpf"
      },
      "execution_count": 40,
      "outputs": []
    },
    {
      "cell_type": "code",
      "source": [
        "before_stopword = df['normalisasi'][10]\n",
        "after_stopword = df['remove_stopword_with_sastrawi'][10]\n",
        "print(before_stopword)\n",
        "print(after_stopword)"
      ],
      "metadata": {
        "colab": {
          "base_uri": "https://localhost:8080/"
        },
        "id": "gPwYKxTXNX02",
        "outputId": "39f72457-57fe-4481-ba4e-dca14a950827"
      },
      "execution_count": 41,
      "outputs": [
        {
          "output_type": "stream",
          "name": "stdout",
          "text": [
            "gelar konser bintang di surga noah tak sabar sapa penggemarnya di yogyakarta\n",
            "gelar konser bintang surga noah tak sabar sapa penggemarnya yogyakarta\n"
          ]
        }
      ]
    },
    {
      "cell_type": "markdown",
      "metadata": {
        "id": "7bVSDswx9A0O"
      },
      "source": [
        "# Text Stemming\n",
        "\n",
        "Menghilangkan imbuhan yang terdapat pada kata-kata dalam sebuah kalimat."
      ]
    },
    {
      "cell_type": "markdown",
      "metadata": {
        "id": "Urb2JwMe9A0P"
      },
      "source": [
        "- Library Sastrawi"
      ]
    },
    {
      "cell_type": "code",
      "execution_count": 42,
      "metadata": {
        "id": "n86MNB3w9A0Q"
      },
      "outputs": [],
      "source": [
        "from Sastrawi.Stemmer.StemmerFactory import StemmerFactory"
      ]
    },
    {
      "cell_type": "code",
      "execution_count": 43,
      "metadata": {
        "id": "Ujto1WEm9A0Z"
      },
      "outputs": [],
      "source": [
        "# create stemmer\n",
        "factory = StemmerFactory()\n",
        "stemmer = factory.create_stemmer()"
      ]
    },
    {
      "cell_type": "code",
      "execution_count": 44,
      "metadata": {
        "id": "GwEuLDND9A0a",
        "colab": {
          "base_uri": "https://localhost:8080/",
          "height": 35
        },
        "outputId": "b50f3986-a5eb-4b7c-e188-c3a3b5512415"
      },
      "outputs": [
        {
          "output_type": "execute_result",
          "data": {
            "application/vnd.google.colaboratory.intrinsic+json": {
              "type": "string"
            },
            "text/plain": [
              "'bahagia di hari yang senang ini'"
            ]
          },
          "metadata": {},
          "execution_count": 44
        }
      ],
      "source": [
        "# text stemming\n",
        "text = \"berbahagialah di hari yang menyenangkan ini!\"\n",
        "text = stemmer.stem(text)\n",
        "text"
      ]
    },
    {
      "cell_type": "code",
      "source": [
        "text2 = 'Saya sedang mencoba untuk belajar penambangan data menggunakan python.'\n",
        "text2 = stemmer.stem(text2)\n",
        "text2"
      ],
      "metadata": {
        "id": "mbR4YAI7wb6U",
        "outputId": "29cd6d74-2003-42fa-c811-a63ec86e6da1",
        "colab": {
          "base_uri": "https://localhost:8080/",
          "height": 35
        }
      },
      "execution_count": 55,
      "outputs": [
        {
          "output_type": "execute_result",
          "data": {
            "application/vnd.google.colaboratory.intrinsic+json": {
              "type": "string"
            },
            "text/plain": [
              "'saya sedang coba untuk ajar tambang data guna python'"
            ]
          },
          "metadata": {},
          "execution_count": 55
        }
      ]
    },
    {
      "cell_type": "markdown",
      "metadata": {
        "id": "CNrRM8vC9A0b"
      },
      "source": [
        "Let's try into dataframe"
      ]
    },
    {
      "cell_type": "code",
      "source": [
        "def text_stemming(text):\n",
        "  text = stemmer.stem(text)\n",
        "  return text"
      ],
      "metadata": {
        "id": "8s3H5awtnaSR"
      },
      "execution_count": 45,
      "outputs": []
    },
    {
      "cell_type": "code",
      "execution_count": 67,
      "metadata": {
        "id": "i9xARuO09A0c"
      },
      "outputs": [],
      "source": [
        "# df['stemmed'] = df['remove_stopword_with_sastrawi'].apply(text_stemming)"
      ]
    },
    {
      "cell_type": "code",
      "source": [
        "# use swifter to speed up process\n",
        "import swifter"
      ],
      "metadata": {
        "id": "r-Qai-qCrfGU"
      },
      "execution_count": 47,
      "outputs": []
    },
    {
      "cell_type": "code",
      "source": [
        "df['stemmed'] = df['remove_stopword_with_sastrawi'].swifter.apply(text_stemming)"
      ],
      "metadata": {
        "colab": {
          "base_uri": "https://localhost:8080/",
          "height": 49,
          "referenced_widgets": [
            "7b540f887a5b448fa3063ff796f7655a",
            "a73f734d531944efa23a21e6f763a388",
            "7167dbf497b34c3fa8ce09bcbd9aa517",
            "0b039a5fac934c4fa20f32728e12680b",
            "ad925b9f76804df28aa0aa8bd588b2f9",
            "e127a13c97bb40bc879a4d8f6b1ba142",
            "4d4a8900725440069303e139eaa41475",
            "7d729af6c94647f1bbe1c46026f31c2c",
            "d9c33af4fafa4604a9d465da371b4ec8",
            "06eadfda005f47338e141021c34e9bf8",
            "a4bb01334f98499288c0e504629c1105"
          ]
        },
        "id": "VHo37jccrNk5",
        "outputId": "d2482886-bbcf-418d-e3d8-01e4957a7f11"
      },
      "execution_count": 48,
      "outputs": [
        {
          "output_type": "display_data",
          "data": {
            "application/vnd.jupyter.widget-view+json": {
              "model_id": "7b540f887a5b448fa3063ff796f7655a",
              "version_minor": 0,
              "version_major": 2
            },
            "text/plain": [
              "Pandas Apply:   0%|          | 0/3075 [00:00<?, ?it/s]"
            ]
          },
          "metadata": {}
        }
      ]
    },
    {
      "cell_type": "code",
      "source": [
        "df[['remove_stopword_with_sastrawi', 'stemmed']][10:20]"
      ],
      "metadata": {
        "colab": {
          "base_uri": "https://localhost:8080/",
          "height": 363
        },
        "id": "2vH40wvcpXnt",
        "outputId": "83bde056-381e-41b9-8d11-fc56e2dd4ab1"
      },
      "execution_count": 71,
      "outputs": [
        {
          "output_type": "execute_result",
          "data": {
            "text/html": [
              "\n",
              "  <div id=\"df-006cbd70-ef4c-4a7a-a771-75117d4ea185\">\n",
              "    <div class=\"colab-df-container\">\n",
              "      <div>\n",
              "<style scoped>\n",
              "    .dataframe tbody tr th:only-of-type {\n",
              "        vertical-align: middle;\n",
              "    }\n",
              "\n",
              "    .dataframe tbody tr th {\n",
              "        vertical-align: top;\n",
              "    }\n",
              "\n",
              "    .dataframe thead th {\n",
              "        text-align: right;\n",
              "    }\n",
              "</style>\n",
              "<table border=\"1\" class=\"dataframe\">\n",
              "  <thead>\n",
              "    <tr style=\"text-align: right;\">\n",
              "      <th></th>\n",
              "      <th>remove_stopword_with_sastrawi</th>\n",
              "      <th>stemmed</th>\n",
              "    </tr>\n",
              "  </thead>\n",
              "  <tbody>\n",
              "    <tr>\n",
              "      <th>10</th>\n",
              "      <td>gelar konser bintang surga noah tak sabar sapa...</td>\n",
              "      <td>gelar konser bintang surga noah tak sabar sapa...</td>\n",
              "    </tr>\n",
              "    <tr>\n",
              "      <th>11</th>\n",
              "      <td>ketum pan pemindahan ibu kota negara jakarta s...</td>\n",
              "      <td>tum pan pindah ibu kota negara jakarta suatu n...</td>\n",
              "    </tr>\n",
              "    <tr>\n",
              "      <th>12</th>\n",
              "      <td>ketua umum pssi merasa ledakan kasus covid ser...</td>\n",
              "      <td>ketua umum pssi rasa ledak kasus covid seri ke...</td>\n",
              "    </tr>\n",
              "    <tr>\n",
              "      <th>13</th>\n",
              "      <td>line up darurat persib vs persikabo debut kaka...</td>\n",
              "      <td>line up darurat persib vs persikabo debut kaka...</td>\n",
              "    </tr>\n",
              "    <tr>\n",
              "      <th>14</th>\n",
              "      <td>ganti seprai tempat tidur seminggu sekali alas...</td>\n",
              "      <td>ganti seprai tempat tidur minggu sekali alas</td>\n",
              "    </tr>\n",
              "    <tr>\n",
              "      <th>15</th>\n",
              "      <td>biar awet cara merawat tabung mesin cuci</td>\n",
              "      <td>biar awet cara rawat tabung mesin cuci</td>\n",
              "    </tr>\n",
              "    <tr>\n",
              "      <th>16</th>\n",
              "      <td>ht persib vs persikabo kakang debut cetak gol ...</td>\n",
              "      <td>ht persib vs persikabo kakang debut cetak gol ...</td>\n",
              "    </tr>\n",
              "    <tr>\n",
              "      <th>17</th>\n",
              "      <td>sinopsis film gone girl misteri hilangnya penu...</td>\n",
              "      <td>sinopsis film gone girl misteri hilang tulis k...</td>\n",
              "    </tr>\n",
              "    <tr>\n",
              "      <th>18</th>\n",
              "      <td>pasukan ukraina berlatih tembakkan peluncur an...</td>\n",
              "      <td>pasu ukraina latih tembak luncur antitank teng...</td>\n",
              "    </tr>\n",
              "    <tr>\n",
              "      <th>19</th>\n",
              "      <td>viral video petugas lempar barang atas pesawat...</td>\n",
              "      <td>viral video tugas lempar barang atas pesawat k...</td>\n",
              "    </tr>\n",
              "  </tbody>\n",
              "</table>\n",
              "</div>\n",
              "      <button class=\"colab-df-convert\" onclick=\"convertToInteractive('df-006cbd70-ef4c-4a7a-a771-75117d4ea185')\"\n",
              "              title=\"Convert this dataframe to an interactive table.\"\n",
              "              style=\"display:none;\">\n",
              "        \n",
              "  <svg xmlns=\"http://www.w3.org/2000/svg\" height=\"24px\"viewBox=\"0 0 24 24\"\n",
              "       width=\"24px\">\n",
              "    <path d=\"M0 0h24v24H0V0z\" fill=\"none\"/>\n",
              "    <path d=\"M18.56 5.44l.94 2.06.94-2.06 2.06-.94-2.06-.94-.94-2.06-.94 2.06-2.06.94zm-11 1L8.5 8.5l.94-2.06 2.06-.94-2.06-.94L8.5 2.5l-.94 2.06-2.06.94zm10 10l.94 2.06.94-2.06 2.06-.94-2.06-.94-.94-2.06-.94 2.06-2.06.94z\"/><path d=\"M17.41 7.96l-1.37-1.37c-.4-.4-.92-.59-1.43-.59-.52 0-1.04.2-1.43.59L10.3 9.45l-7.72 7.72c-.78.78-.78 2.05 0 2.83L4 21.41c.39.39.9.59 1.41.59.51 0 1.02-.2 1.41-.59l7.78-7.78 2.81-2.81c.8-.78.8-2.07 0-2.86zM5.41 20L4 18.59l7.72-7.72 1.47 1.35L5.41 20z\"/>\n",
              "  </svg>\n",
              "      </button>\n",
              "      \n",
              "  <style>\n",
              "    .colab-df-container {\n",
              "      display:flex;\n",
              "      flex-wrap:wrap;\n",
              "      gap: 12px;\n",
              "    }\n",
              "\n",
              "    .colab-df-convert {\n",
              "      background-color: #E8F0FE;\n",
              "      border: none;\n",
              "      border-radius: 50%;\n",
              "      cursor: pointer;\n",
              "      display: none;\n",
              "      fill: #1967D2;\n",
              "      height: 32px;\n",
              "      padding: 0 0 0 0;\n",
              "      width: 32px;\n",
              "    }\n",
              "\n",
              "    .colab-df-convert:hover {\n",
              "      background-color: #E2EBFA;\n",
              "      box-shadow: 0px 1px 2px rgba(60, 64, 67, 0.3), 0px 1px 3px 1px rgba(60, 64, 67, 0.15);\n",
              "      fill: #174EA6;\n",
              "    }\n",
              "\n",
              "    [theme=dark] .colab-df-convert {\n",
              "      background-color: #3B4455;\n",
              "      fill: #D2E3FC;\n",
              "    }\n",
              "\n",
              "    [theme=dark] .colab-df-convert:hover {\n",
              "      background-color: #434B5C;\n",
              "      box-shadow: 0px 1px 3px 1px rgba(0, 0, 0, 0.15);\n",
              "      filter: drop-shadow(0px 1px 2px rgba(0, 0, 0, 0.3));\n",
              "      fill: #FFFFFF;\n",
              "    }\n",
              "  </style>\n",
              "\n",
              "      <script>\n",
              "        const buttonEl =\n",
              "          document.querySelector('#df-006cbd70-ef4c-4a7a-a771-75117d4ea185 button.colab-df-convert');\n",
              "        buttonEl.style.display =\n",
              "          google.colab.kernel.accessAllowed ? 'block' : 'none';\n",
              "\n",
              "        async function convertToInteractive(key) {\n",
              "          const element = document.querySelector('#df-006cbd70-ef4c-4a7a-a771-75117d4ea185');\n",
              "          const dataTable =\n",
              "            await google.colab.kernel.invokeFunction('convertToInteractive',\n",
              "                                                     [key], {});\n",
              "          if (!dataTable) return;\n",
              "\n",
              "          const docLinkHtml = 'Like what you see? Visit the ' +\n",
              "            '<a target=\"_blank\" href=https://colab.research.google.com/notebooks/data_table.ipynb>data table notebook</a>'\n",
              "            + ' to learn more about interactive tables.';\n",
              "          element.innerHTML = '';\n",
              "          dataTable['output_type'] = 'display_data';\n",
              "          await google.colab.output.renderOutput(dataTable, element);\n",
              "          const docLink = document.createElement('div');\n",
              "          docLink.innerHTML = docLinkHtml;\n",
              "          element.appendChild(docLink);\n",
              "        }\n",
              "      </script>\n",
              "    </div>\n",
              "  </div>\n",
              "  "
            ],
            "text/plain": [
              "                        remove_stopword_with_sastrawi                                            stemmed\n",
              "10  gelar konser bintang surga noah tak sabar sapa...  gelar konser bintang surga noah tak sabar sapa...\n",
              "11  ketum pan pemindahan ibu kota negara jakarta s...  tum pan pindah ibu kota negara jakarta suatu n...\n",
              "12  ketua umum pssi merasa ledakan kasus covid ser...  ketua umum pssi rasa ledak kasus covid seri ke...\n",
              "13  line up darurat persib vs persikabo debut kaka...  line up darurat persib vs persikabo debut kaka...\n",
              "14  ganti seprai tempat tidur seminggu sekali alas...       ganti seprai tempat tidur minggu sekali alas\n",
              "15           biar awet cara merawat tabung mesin cuci             biar awet cara rawat tabung mesin cuci\n",
              "16  ht persib vs persikabo kakang debut cetak gol ...  ht persib vs persikabo kakang debut cetak gol ...\n",
              "17  sinopsis film gone girl misteri hilangnya penu...  sinopsis film gone girl misteri hilang tulis k...\n",
              "18  pasukan ukraina berlatih tembakkan peluncur an...  pasu ukraina latih tembak luncur antitank teng...\n",
              "19  viral video petugas lempar barang atas pesawat...  viral video tugas lempar barang atas pesawat k..."
            ]
          },
          "metadata": {},
          "execution_count": 71
        }
      ]
    },
    {
      "cell_type": "code",
      "source": [
        "df['remove_stopword_with_sastrawi'][200]"
      ],
      "metadata": {
        "colab": {
          "base_uri": "https://localhost:8080/",
          "height": 35
        },
        "id": "yjaIokCLpzHD",
        "outputId": "f986318b-f5a4-4844-d2c4-8f5a1d94f81f"
      },
      "execution_count": 70,
      "outputs": [
        {
          "output_type": "execute_result",
          "data": {
            "application/vnd.google.colaboratory.intrinsic+json": {
              "type": "string"
            },
            "text/plain": [
              "'manfaat pare kesehatan bantu turunkan gula darah kolesterol'"
            ]
          },
          "metadata": {},
          "execution_count": 70
        }
      ]
    },
    {
      "cell_type": "code",
      "source": [
        "df['stemmed'][200]"
      ],
      "metadata": {
        "colab": {
          "base_uri": "https://localhost:8080/",
          "height": 35
        },
        "id": "5yaUdBimp2e-",
        "outputId": "f72a9ff8-e3ee-4661-f71e-19710b50d5e1"
      },
      "execution_count": 69,
      "outputs": [
        {
          "output_type": "execute_result",
          "data": {
            "application/vnd.google.colaboratory.intrinsic+json": {
              "type": "string"
            },
            "text/plain": [
              "'manfaat pare sehat bantu turun gula darah kolesterol'"
            ]
          },
          "metadata": {},
          "execution_count": 69
        }
      ]
    },
    {
      "cell_type": "markdown",
      "metadata": {
        "id": "10kNxy3d9A0l"
      },
      "source": [
        "# Text Lemmatizing\n",
        "\n",
        "Mengubah kata menjadi bentuk bakunya"
      ]
    },
    {
      "cell_type": "markdown",
      "metadata": {
        "id": "49Gn9JE89A0r"
      },
      "source": [
        "- Library NLP ID"
      ]
    },
    {
      "cell_type": "code",
      "execution_count": 51,
      "metadata": {
        "id": "cqXyxKG29A0s"
      },
      "outputs": [],
      "source": [
        "from nlp_id.lemmatizer import Lemmatizer"
      ]
    },
    {
      "cell_type": "code",
      "execution_count": 52,
      "metadata": {
        "id": "MTgzE4pT9A0t"
      },
      "outputs": [],
      "source": [
        "lemmatizer = Lemmatizer()"
      ]
    },
    {
      "cell_type": "code",
      "execution_count": 53,
      "metadata": {
        "id": "q7CgfWQn9A0u"
      },
      "outputs": [],
      "source": [
        "text = 'Saya sedang mencoba untuk belajar penambangan data menggunakan python.'\n",
        "text = lemmatizer.lemmatize(text) "
      ]
    },
    {
      "cell_type": "code",
      "source": [
        "text"
      ],
      "metadata": {
        "id": "xfu9_ML99OMx",
        "colab": {
          "base_uri": "https://localhost:8080/",
          "height": 35
        },
        "outputId": "dc62ef9b-47f3-432f-af9d-a6e97ea069f8"
      },
      "execution_count": 54,
      "outputs": [
        {
          "output_type": "execute_result",
          "data": {
            "application/vnd.google.colaboratory.intrinsic+json": {
              "type": "string"
            },
            "text/plain": [
              "'saya sedang coba untuk ajar tambang data guna python'"
            ]
          },
          "metadata": {},
          "execution_count": 54
        }
      ]
    },
    {
      "cell_type": "markdown",
      "metadata": {
        "id": "2rjN226p9A0v"
      },
      "source": [
        "Let's try into dataframe"
      ]
    },
    {
      "cell_type": "code",
      "execution_count": 63,
      "metadata": {
        "id": "Uerzsd9r9A0_"
      },
      "outputs": [],
      "source": [
        "def text_lemmatizing(text):\n",
        "  text = lemmatizer.lemmatize(text)\n",
        "  return text"
      ]
    },
    {
      "cell_type": "code",
      "source": [
        "df['lemmatized']=df['removed_stopword_nlp_id'].swifter.apply(text_lemmatizing)"
      ],
      "metadata": {
        "id": "0pcRPCq8wtSv",
        "outputId": "c1f906ff-d7f3-4ca9-8f5e-4055cef66310",
        "colab": {
          "base_uri": "https://localhost:8080/",
          "height": 49,
          "referenced_widgets": [
            "2e0f7fae45ba4a17b4d103a6dde6cc4c",
            "14dd228dafd54c35a389a5a93a88fb02",
            "7dc8f24d1b3f438dab8f2e658fab0eec",
            "a69816f022734ce38da25dab27d2ea08",
            "752387d8be01401781521ecf0610ed12",
            "622422c3a5974b628e92871d11b0d9db",
            "eb459df5d57e4dcf9add53267b4c0d58",
            "f5c6ca6b34f64d338cd94384341e6035",
            "619c9d8621904f0ba0f1a3c983c6f2cd",
            "75f147df6c1a4207b2312921a8b1508c",
            "4e33c74c840b41b29a947c952c3b6604"
          ]
        }
      },
      "execution_count": 64,
      "outputs": [
        {
          "output_type": "display_data",
          "data": {
            "application/vnd.jupyter.widget-view+json": {
              "model_id": "2e0f7fae45ba4a17b4d103a6dde6cc4c",
              "version_minor": 0,
              "version_major": 2
            },
            "text/plain": [
              "Pandas Apply:   0%|          | 0/3075 [00:00<?, ?it/s]"
            ]
          },
          "metadata": {}
        }
      ]
    },
    {
      "cell_type": "code",
      "source": [
        "df['removed_stopword_nlp_id'][200]"
      ],
      "metadata": {
        "id": "o9OTta8jxtjk",
        "outputId": "3fe09bff-ab3b-48f4-c6bd-905a3cb7a7b9",
        "colab": {
          "base_uri": "https://localhost:8080/",
          "height": 35
        }
      },
      "execution_count": 68,
      "outputs": [
        {
          "output_type": "execute_result",
          "data": {
            "application/vnd.google.colaboratory.intrinsic+json": {
              "type": "string"
            },
            "text/plain": [
              "'manfaat pare kesehatan bantu turunkan gula darah kolesterol'"
            ]
          },
          "metadata": {},
          "execution_count": 68
        }
      ]
    },
    {
      "cell_type": "code",
      "source": [
        "df['lemmatized'][200]"
      ],
      "metadata": {
        "id": "Gazkzb3Nxytu",
        "outputId": "98c3c297-a4e0-41ad-8549-b68f546ca524",
        "colab": {
          "base_uri": "https://localhost:8080/",
          "height": 35
        }
      },
      "execution_count": 67,
      "outputs": [
        {
          "output_type": "execute_result",
          "data": {
            "application/vnd.google.colaboratory.intrinsic+json": {
              "type": "string"
            },
            "text/plain": [
              "'manfaat pare sehat bantu turun gula darah kolesterol'"
            ]
          },
          "metadata": {},
          "execution_count": 67
        }
      ]
    },
    {
      "cell_type": "code",
      "source": [
        "df[['normalisasi', 'remove_stopword_with_sastrawi', 'stemmed', 'removed_stopword_nlp_id', 'lemmatized']][200:210]"
      ],
      "metadata": {
        "id": "3QOeJ7_Bx2oN",
        "outputId": "7f68d748-396f-4e87-d140-cf5f94c9161d",
        "colab": {
          "base_uri": "https://localhost:8080/",
          "height": 581
        }
      },
      "execution_count": 74,
      "outputs": [
        {
          "output_type": "execute_result",
          "data": {
            "text/html": [
              "\n",
              "  <div id=\"df-f433f140-2335-4ac3-bb29-2fff4afe064d\">\n",
              "    <div class=\"colab-df-container\">\n",
              "      <div>\n",
              "<style scoped>\n",
              "    .dataframe tbody tr th:only-of-type {\n",
              "        vertical-align: middle;\n",
              "    }\n",
              "\n",
              "    .dataframe tbody tr th {\n",
              "        vertical-align: top;\n",
              "    }\n",
              "\n",
              "    .dataframe thead th {\n",
              "        text-align: right;\n",
              "    }\n",
              "</style>\n",
              "<table border=\"1\" class=\"dataframe\">\n",
              "  <thead>\n",
              "    <tr style=\"text-align: right;\">\n",
              "      <th></th>\n",
              "      <th>normalisasi</th>\n",
              "      <th>remove_stopword_with_sastrawi</th>\n",
              "      <th>stemmed</th>\n",
              "      <th>removed_stopword_nlp_id</th>\n",
              "      <th>lemmatized</th>\n",
              "    </tr>\n",
              "  </thead>\n",
              "  <tbody>\n",
              "    <tr>\n",
              "      <th>200</th>\n",
              "      <td>manfaat pare bagi kesehatan bantu turunkan gul...</td>\n",
              "      <td>manfaat pare kesehatan bantu turunkan gula dar...</td>\n",
              "      <td>manfaat pare sehat bantu turun gula darah kole...</td>\n",
              "      <td>manfaat pare kesehatan bantu turunkan gula dar...</td>\n",
              "      <td>manfaat pare sehat bantu turun gula darah kole...</td>\n",
              "    </tr>\n",
              "    <tr>\n",
              "      <th>201</th>\n",
              "      <td>catat ini syarat dan biaya nikah di kua</td>\n",
              "      <td>catat syarat biaya nikah kua</td>\n",
              "      <td>catat syarat biaya nikah kua</td>\n",
              "      <td>catat syarat biaya nikah kua</td>\n",
              "      <td>catat syarat biaya nikah kua</td>\n",
              "    </tr>\n",
              "    <tr>\n",
              "      <th>202</th>\n",
              "      <td>lotte shopping avenue renovasi dua perpustakaa...</td>\n",
              "      <td>lotte shopping avenue renovasi perpustakaan se...</td>\n",
              "      <td>lotte shopping avenue renovasi pustaka sekolah...</td>\n",
              "      <td>lotte shopping avenue renovasi perpustakaan se...</td>\n",
              "      <td>lotte shopping avenue renovasi pustaka sekolah...</td>\n",
              "    </tr>\n",
              "    <tr>\n",
              "      <th>203</th>\n",
              "      <td>pengamat politik peluang dedi mulyadi di pilpr...</td>\n",
              "      <td>pengamat politik peluang dedi mulyadi pilpres ...</td>\n",
              "      <td>amat politik peluang dedi mulyadi pilpres tipis</td>\n",
              "      <td>pengamat politik peluang dedi mulyadi pilpres ...</td>\n",
              "      <td>amat politik peluang dedi mulyadi pilpres tipis</td>\n",
              "    </tr>\n",
              "    <tr>\n",
              "      <th>204</th>\n",
              "      <td>curi susu formula rokok dan uang tunai komplot...</td>\n",
              "      <td>curi susu formula rokok uang tunai komplotan s...</td>\n",
              "      <td>curi susu formula rokok uang tunai komplot spe...</td>\n",
              "      <td>curi susu formula rokok uang tunai komplotan s...</td>\n",
              "      <td>curi susu formula rokok uang tunai komplot spe...</td>\n",
              "    </tr>\n",
              "    <tr>\n",
              "      <th>205</th>\n",
              "      <td>operasi pasar di salatiga jateng airlangga har...</td>\n",
              "      <td>operasi pasar salatiga jateng airlangga hartar...</td>\n",
              "      <td>operasi pasar salatiga jateng airlangga hartar...</td>\n",
              "      <td>operasi pasar salatiga jateng airlangga hartar...</td>\n",
              "      <td>operasi pasar salatiga jateng airlangga hartar...</td>\n",
              "    </tr>\n",
              "    <tr>\n",
              "      <th>206</th>\n",
              "      <td>remaja tahun ditangkap di hutan mamasa beserta...</td>\n",
              "      <td>remaja tahun ditangkap hutan mamasa beserta mo...</td>\n",
              "      <td>remaja tahun tangkap hutan mamasa serta motor ...</td>\n",
              "      <td>remaja ditangkap hutan mamasa motor curiannya</td>\n",
              "      <td>remaja tangkap hutan mamasa motor curi</td>\n",
              "    </tr>\n",
              "    <tr>\n",
              "      <th>207</th>\n",
              "      <td>periksa kerangkeng di rumah bupati nonaktif la...</td>\n",
              "      <td>periksa kerangkeng rumah bupati nonaktif langk...</td>\n",
              "      <td>periksa kerangkeng rumah bupati nonaktif langk...</td>\n",
              "      <td>periksa kerangkeng rumah bupati nonaktif langk...</td>\n",
              "      <td>periksa kerangkeng rumah bupati nonaktif langk...</td>\n",
              "    </tr>\n",
              "    <tr>\n",
              "      <th>208</th>\n",
              "      <td>jenazah dj indah cleo dan korban lain sudah te...</td>\n",
              "      <td>jenazah dj indah cleo korban sudah teridentifi...</td>\n",
              "      <td>jenazah dj indah cleo korban sudah identifikasi</td>\n",
              "      <td>jenazah dj indah cleo korban teridentifikasi</td>\n",
              "      <td>jenazah dj indah cleo korban identifikasi</td>\n",
              "    </tr>\n",
              "    <tr>\n",
              "      <th>209</th>\n",
              "      <td>hal yang wajib ada di kamar tamu agar betah da...</td>\n",
              "      <td>yang wajib di kamar tamu betah nyaman</td>\n",
              "      <td>yang wajib di kamar tamu betah nyaman</td>\n",
              "      <td>hal wajib kamar tamu betah nyaman</td>\n",
              "      <td>hal wajib kamar tamu betah nyaman</td>\n",
              "    </tr>\n",
              "  </tbody>\n",
              "</table>\n",
              "</div>\n",
              "      <button class=\"colab-df-convert\" onclick=\"convertToInteractive('df-f433f140-2335-4ac3-bb29-2fff4afe064d')\"\n",
              "              title=\"Convert this dataframe to an interactive table.\"\n",
              "              style=\"display:none;\">\n",
              "        \n",
              "  <svg xmlns=\"http://www.w3.org/2000/svg\" height=\"24px\"viewBox=\"0 0 24 24\"\n",
              "       width=\"24px\">\n",
              "    <path d=\"M0 0h24v24H0V0z\" fill=\"none\"/>\n",
              "    <path d=\"M18.56 5.44l.94 2.06.94-2.06 2.06-.94-2.06-.94-.94-2.06-.94 2.06-2.06.94zm-11 1L8.5 8.5l.94-2.06 2.06-.94-2.06-.94L8.5 2.5l-.94 2.06-2.06.94zm10 10l.94 2.06.94-2.06 2.06-.94-2.06-.94-.94-2.06-.94 2.06-2.06.94z\"/><path d=\"M17.41 7.96l-1.37-1.37c-.4-.4-.92-.59-1.43-.59-.52 0-1.04.2-1.43.59L10.3 9.45l-7.72 7.72c-.78.78-.78 2.05 0 2.83L4 21.41c.39.39.9.59 1.41.59.51 0 1.02-.2 1.41-.59l7.78-7.78 2.81-2.81c.8-.78.8-2.07 0-2.86zM5.41 20L4 18.59l7.72-7.72 1.47 1.35L5.41 20z\"/>\n",
              "  </svg>\n",
              "      </button>\n",
              "      \n",
              "  <style>\n",
              "    .colab-df-container {\n",
              "      display:flex;\n",
              "      flex-wrap:wrap;\n",
              "      gap: 12px;\n",
              "    }\n",
              "\n",
              "    .colab-df-convert {\n",
              "      background-color: #E8F0FE;\n",
              "      border: none;\n",
              "      border-radius: 50%;\n",
              "      cursor: pointer;\n",
              "      display: none;\n",
              "      fill: #1967D2;\n",
              "      height: 32px;\n",
              "      padding: 0 0 0 0;\n",
              "      width: 32px;\n",
              "    }\n",
              "\n",
              "    .colab-df-convert:hover {\n",
              "      background-color: #E2EBFA;\n",
              "      box-shadow: 0px 1px 2px rgba(60, 64, 67, 0.3), 0px 1px 3px 1px rgba(60, 64, 67, 0.15);\n",
              "      fill: #174EA6;\n",
              "    }\n",
              "\n",
              "    [theme=dark] .colab-df-convert {\n",
              "      background-color: #3B4455;\n",
              "      fill: #D2E3FC;\n",
              "    }\n",
              "\n",
              "    [theme=dark] .colab-df-convert:hover {\n",
              "      background-color: #434B5C;\n",
              "      box-shadow: 0px 1px 3px 1px rgba(0, 0, 0, 0.15);\n",
              "      filter: drop-shadow(0px 1px 2px rgba(0, 0, 0, 0.3));\n",
              "      fill: #FFFFFF;\n",
              "    }\n",
              "  </style>\n",
              "\n",
              "      <script>\n",
              "        const buttonEl =\n",
              "          document.querySelector('#df-f433f140-2335-4ac3-bb29-2fff4afe064d button.colab-df-convert');\n",
              "        buttonEl.style.display =\n",
              "          google.colab.kernel.accessAllowed ? 'block' : 'none';\n",
              "\n",
              "        async function convertToInteractive(key) {\n",
              "          const element = document.querySelector('#df-f433f140-2335-4ac3-bb29-2fff4afe064d');\n",
              "          const dataTable =\n",
              "            await google.colab.kernel.invokeFunction('convertToInteractive',\n",
              "                                                     [key], {});\n",
              "          if (!dataTable) return;\n",
              "\n",
              "          const docLinkHtml = 'Like what you see? Visit the ' +\n",
              "            '<a target=\"_blank\" href=https://colab.research.google.com/notebooks/data_table.ipynb>data table notebook</a>'\n",
              "            + ' to learn more about interactive tables.';\n",
              "          element.innerHTML = '';\n",
              "          dataTable['output_type'] = 'display_data';\n",
              "          await google.colab.output.renderOutput(dataTable, element);\n",
              "          const docLink = document.createElement('div');\n",
              "          docLink.innerHTML = docLinkHtml;\n",
              "          element.appendChild(docLink);\n",
              "        }\n",
              "      </script>\n",
              "    </div>\n",
              "  </div>\n",
              "  "
            ],
            "text/plain": [
              "                                           normalisasi  ...                                         lemmatized\n",
              "200  manfaat pare bagi kesehatan bantu turunkan gul...  ...  manfaat pare sehat bantu turun gula darah kole...\n",
              "201            catat ini syarat dan biaya nikah di kua  ...                       catat syarat biaya nikah kua\n",
              "202  lotte shopping avenue renovasi dua perpustakaa...  ...  lotte shopping avenue renovasi pustaka sekolah...\n",
              "203  pengamat politik peluang dedi mulyadi di pilpr...  ...    amat politik peluang dedi mulyadi pilpres tipis\n",
              "204  curi susu formula rokok dan uang tunai komplot...  ...  curi susu formula rokok uang tunai komplot spe...\n",
              "205  operasi pasar di salatiga jateng airlangga har...  ...  operasi pasar salatiga jateng airlangga hartar...\n",
              "206  remaja tahun ditangkap di hutan mamasa beserta...  ...             remaja tangkap hutan mamasa motor curi\n",
              "207  periksa kerangkeng di rumah bupati nonaktif la...  ...  periksa kerangkeng rumah bupati nonaktif langk...\n",
              "208  jenazah dj indah cleo dan korban lain sudah te...  ...          jenazah dj indah cleo korban identifikasi\n",
              "209  hal yang wajib ada di kamar tamu agar betah da...  ...                  hal wajib kamar tamu betah nyaman\n",
              "\n",
              "[10 rows x 5 columns]"
            ]
          },
          "metadata": {},
          "execution_count": 74
        }
      ]
    },
    {
      "cell_type": "code",
      "source": [
        "df.info()"
      ],
      "metadata": {
        "id": "5nrC40WE0jn2",
        "outputId": "dc2700a8-7789-45aa-c7b3-7f27ce6c61e7",
        "colab": {
          "base_uri": "https://localhost:8080/"
        }
      },
      "execution_count": 77,
      "outputs": [
        {
          "output_type": "stream",
          "name": "stdout",
          "text": [
            "<class 'pandas.core.frame.DataFrame'>\n",
            "RangeIndex: 3075 entries, 0 to 3074\n",
            "Data columns (total 11 columns):\n",
            " #   Column                         Non-Null Count  Dtype \n",
            "---  ------                         --------------  ----- \n",
            " 0   judul                          3075 non-null   object\n",
            " 1   kategori                       3075 non-null   object\n",
            " 2   tanggal_upload                 3075 non-null   object\n",
            " 3   waktu_upload                   3075 non-null   object\n",
            " 4   link_berita                    3075 non-null   object\n",
            " 5   lower_judul                    3075 non-null   object\n",
            " 6   normalisasi                    3075 non-null   object\n",
            " 7   remove_stopword_with_sastrawi  3075 non-null   object\n",
            " 8   stemmed                        3075 non-null   object\n",
            " 9   removed_stopword_nlp_id        3075 non-null   object\n",
            " 10  lemmatized                     3075 non-null   object\n",
            "dtypes: object(11)\n",
            "memory usage: 264.4+ KB\n"
          ]
        }
      ]
    },
    {
      "cell_type": "code",
      "source": [
        "new_df = df[['lemmatized', 'kategori', 'tanggal_upload', 'waktu_upload', 'link_berita']]"
      ],
      "metadata": {
        "id": "Ho2pTVcqyKVv"
      },
      "execution_count": 78,
      "outputs": []
    },
    {
      "cell_type": "code",
      "source": [
        "new_df.head()"
      ],
      "metadata": {
        "id": "x2Hm9S7w03SM",
        "outputId": "553a7879-5d28-4cfc-e542-03ba18e67b13",
        "colab": {
          "base_uri": "https://localhost:8080/",
          "height": 206
        }
      },
      "execution_count": 79,
      "outputs": [
        {
          "output_type": "execute_result",
          "data": {
            "text/html": [
              "\n",
              "  <div id=\"df-a89e8ca5-32bf-4bab-98c6-2b7e4f8f9111\">\n",
              "    <div class=\"colab-df-container\">\n",
              "      <div>\n",
              "<style scoped>\n",
              "    .dataframe tbody tr th:only-of-type {\n",
              "        vertical-align: middle;\n",
              "    }\n",
              "\n",
              "    .dataframe tbody tr th {\n",
              "        vertical-align: top;\n",
              "    }\n",
              "\n",
              "    .dataframe thead th {\n",
              "        text-align: right;\n",
              "    }\n",
              "</style>\n",
              "<table border=\"1\" class=\"dataframe\">\n",
              "  <thead>\n",
              "    <tr style=\"text-align: right;\">\n",
              "      <th></th>\n",
              "      <th>lemmatized</th>\n",
              "      <th>kategori</th>\n",
              "      <th>tanggal_upload</th>\n",
              "      <th>waktu_upload</th>\n",
              "      <th>link_berita</th>\n",
              "    </tr>\n",
              "  </thead>\n",
              "  <tbody>\n",
              "    <tr>\n",
              "      <th>0</th>\n",
              "      <td>indonesia sertifikat vaksin internasional akses</td>\n",
              "      <td>WIKEN</td>\n",
              "      <td>29/01/2022</td>\n",
              "      <td>22:03 WIB</td>\n",
              "      <td>https://www.kompas.com/wiken/read/2022/01/29/2...</td>\n",
              "    </tr>\n",
              "    <tr>\n",
              "      <th>1</th>\n",
              "      <td>resep ayam bakar klaten aroma gurih pakai santan</td>\n",
              "      <td>FOOD</td>\n",
              "      <td>29/01/2022</td>\n",
              "      <td>22:03 WIB</td>\n",
              "      <td>https://www.kompas.com/food/read/2022/01/29/22...</td>\n",
              "    </tr>\n",
              "    <tr>\n",
              "      <th>2</th>\n",
              "      <td>foto cemar tumpah minyak pantai thailand tutup</td>\n",
              "      <td>GLOBAL</td>\n",
              "      <td>29/01/2022</td>\n",
              "      <td>22:01 WIB</td>\n",
              "      <td>https://www.kompas.com/global/read/2022/01/29/...</td>\n",
              "    </tr>\n",
              "    <tr>\n",
              "      <th>3</th>\n",
              "      <td>resmi juventus buffon sanding dus vlahovic mba...</td>\n",
              "      <td>BOLA</td>\n",
              "      <td>29/01/2022</td>\n",
              "      <td>22:00 WIB</td>\n",
              "      <td>https://bola.kompas.com/read/2022/01/29/220000...</td>\n",
              "    </tr>\n",
              "    <tr>\n",
              "      <th>4</th>\n",
              "      <td>sebab vagina gatal</td>\n",
              "      <td>HEALTH</td>\n",
              "      <td>29/01/2022</td>\n",
              "      <td>22:00 WIB</td>\n",
              "      <td>https://health.kompas.com/read/2022/01/29/2200...</td>\n",
              "    </tr>\n",
              "  </tbody>\n",
              "</table>\n",
              "</div>\n",
              "      <button class=\"colab-df-convert\" onclick=\"convertToInteractive('df-a89e8ca5-32bf-4bab-98c6-2b7e4f8f9111')\"\n",
              "              title=\"Convert this dataframe to an interactive table.\"\n",
              "              style=\"display:none;\">\n",
              "        \n",
              "  <svg xmlns=\"http://www.w3.org/2000/svg\" height=\"24px\"viewBox=\"0 0 24 24\"\n",
              "       width=\"24px\">\n",
              "    <path d=\"M0 0h24v24H0V0z\" fill=\"none\"/>\n",
              "    <path d=\"M18.56 5.44l.94 2.06.94-2.06 2.06-.94-2.06-.94-.94-2.06-.94 2.06-2.06.94zm-11 1L8.5 8.5l.94-2.06 2.06-.94-2.06-.94L8.5 2.5l-.94 2.06-2.06.94zm10 10l.94 2.06.94-2.06 2.06-.94-2.06-.94-.94-2.06-.94 2.06-2.06.94z\"/><path d=\"M17.41 7.96l-1.37-1.37c-.4-.4-.92-.59-1.43-.59-.52 0-1.04.2-1.43.59L10.3 9.45l-7.72 7.72c-.78.78-.78 2.05 0 2.83L4 21.41c.39.39.9.59 1.41.59.51 0 1.02-.2 1.41-.59l7.78-7.78 2.81-2.81c.8-.78.8-2.07 0-2.86zM5.41 20L4 18.59l7.72-7.72 1.47 1.35L5.41 20z\"/>\n",
              "  </svg>\n",
              "      </button>\n",
              "      \n",
              "  <style>\n",
              "    .colab-df-container {\n",
              "      display:flex;\n",
              "      flex-wrap:wrap;\n",
              "      gap: 12px;\n",
              "    }\n",
              "\n",
              "    .colab-df-convert {\n",
              "      background-color: #E8F0FE;\n",
              "      border: none;\n",
              "      border-radius: 50%;\n",
              "      cursor: pointer;\n",
              "      display: none;\n",
              "      fill: #1967D2;\n",
              "      height: 32px;\n",
              "      padding: 0 0 0 0;\n",
              "      width: 32px;\n",
              "    }\n",
              "\n",
              "    .colab-df-convert:hover {\n",
              "      background-color: #E2EBFA;\n",
              "      box-shadow: 0px 1px 2px rgba(60, 64, 67, 0.3), 0px 1px 3px 1px rgba(60, 64, 67, 0.15);\n",
              "      fill: #174EA6;\n",
              "    }\n",
              "\n",
              "    [theme=dark] .colab-df-convert {\n",
              "      background-color: #3B4455;\n",
              "      fill: #D2E3FC;\n",
              "    }\n",
              "\n",
              "    [theme=dark] .colab-df-convert:hover {\n",
              "      background-color: #434B5C;\n",
              "      box-shadow: 0px 1px 3px 1px rgba(0, 0, 0, 0.15);\n",
              "      filter: drop-shadow(0px 1px 2px rgba(0, 0, 0, 0.3));\n",
              "      fill: #FFFFFF;\n",
              "    }\n",
              "  </style>\n",
              "\n",
              "      <script>\n",
              "        const buttonEl =\n",
              "          document.querySelector('#df-a89e8ca5-32bf-4bab-98c6-2b7e4f8f9111 button.colab-df-convert');\n",
              "        buttonEl.style.display =\n",
              "          google.colab.kernel.accessAllowed ? 'block' : 'none';\n",
              "\n",
              "        async function convertToInteractive(key) {\n",
              "          const element = document.querySelector('#df-a89e8ca5-32bf-4bab-98c6-2b7e4f8f9111');\n",
              "          const dataTable =\n",
              "            await google.colab.kernel.invokeFunction('convertToInteractive',\n",
              "                                                     [key], {});\n",
              "          if (!dataTable) return;\n",
              "\n",
              "          const docLinkHtml = 'Like what you see? Visit the ' +\n",
              "            '<a target=\"_blank\" href=https://colab.research.google.com/notebooks/data_table.ipynb>data table notebook</a>'\n",
              "            + ' to learn more about interactive tables.';\n",
              "          element.innerHTML = '';\n",
              "          dataTable['output_type'] = 'display_data';\n",
              "          await google.colab.output.renderOutput(dataTable, element);\n",
              "          const docLink = document.createElement('div');\n",
              "          docLink.innerHTML = docLinkHtml;\n",
              "          element.appendChild(docLink);\n",
              "        }\n",
              "      </script>\n",
              "    </div>\n",
              "  </div>\n",
              "  "
            ],
            "text/plain": [
              "                                          lemmatized  ...                                        link_berita\n",
              "0    indonesia sertifikat vaksin internasional akses  ...  https://www.kompas.com/wiken/read/2022/01/29/2...\n",
              "1   resep ayam bakar klaten aroma gurih pakai santan  ...  https://www.kompas.com/food/read/2022/01/29/22...\n",
              "2     foto cemar tumpah minyak pantai thailand tutup  ...  https://www.kompas.com/global/read/2022/01/29/...\n",
              "3  resmi juventus buffon sanding dus vlahovic mba...  ...  https://bola.kompas.com/read/2022/01/29/220000...\n",
              "4                                 sebab vagina gatal  ...  https://health.kompas.com/read/2022/01/29/2200...\n",
              "\n",
              "[5 rows x 5 columns]"
            ]
          },
          "metadata": {},
          "execution_count": 79
        }
      ]
    },
    {
      "cell_type": "code",
      "source": [
        ""
      ],
      "metadata": {
        "id": "vS_SPHHp05S9"
      },
      "execution_count": null,
      "outputs": []
    }
  ],
  "metadata": {
    "kernelspec": {
      "display_name": "Python 3",
      "language": "python",
      "name": "python3"
    },
    "language_info": {
      "codemirror_mode": {
        "name": "ipython",
        "version": 3
      },
      "file_extension": ".py",
      "mimetype": "text/x-python",
      "name": "python",
      "nbconvert_exporter": "python",
      "pygments_lexer": "ipython3",
      "version": "3.7.4"
    },
    "colab": {
      "name": "Preprocessing.ipynb",
      "provenance": []
    },
    "widgets": {
      "application/vnd.jupyter.widget-state+json": {
        "655f5ba6d97f4677a214a2f0a0efcc25": {
          "model_module": "@jupyter-widgets/controls",
          "model_name": "HBoxModel",
          "model_module_version": "1.5.0",
          "state": {
            "_view_name": "HBoxView",
            "_dom_classes": [],
            "_model_name": "HBoxModel",
            "_view_module": "@jupyter-widgets/controls",
            "_model_module_version": "1.5.0",
            "_view_count": null,
            "_view_module_version": "1.5.0",
            "box_style": "",
            "layout": "IPY_MODEL_d186788a6d24464cb04b6da3c3323dda",
            "_model_module": "@jupyter-widgets/controls",
            "children": [
              "IPY_MODEL_df4e48c105e14115b89add422d36b24c",
              "IPY_MODEL_d5fc45c6030b46768400d0923d564b6b",
              "IPY_MODEL_b7606b0b38f24584999962a647dd83dd"
            ]
          }
        },
        "d186788a6d24464cb04b6da3c3323dda": {
          "model_module": "@jupyter-widgets/base",
          "model_name": "LayoutModel",
          "model_module_version": "1.2.0",
          "state": {
            "_view_name": "LayoutView",
            "grid_template_rows": null,
            "right": null,
            "justify_content": null,
            "_view_module": "@jupyter-widgets/base",
            "overflow": null,
            "_model_module_version": "1.2.0",
            "_view_count": null,
            "flex_flow": null,
            "width": null,
            "min_width": null,
            "border": null,
            "align_items": null,
            "bottom": null,
            "_model_module": "@jupyter-widgets/base",
            "top": null,
            "grid_column": null,
            "overflow_y": null,
            "overflow_x": null,
            "grid_auto_flow": null,
            "grid_area": null,
            "grid_template_columns": null,
            "flex": null,
            "_model_name": "LayoutModel",
            "justify_items": null,
            "grid_row": null,
            "max_height": null,
            "align_content": null,
            "visibility": null,
            "align_self": null,
            "height": null,
            "min_height": null,
            "padding": null,
            "grid_auto_rows": null,
            "grid_gap": null,
            "max_width": null,
            "order": null,
            "_view_module_version": "1.2.0",
            "grid_template_areas": null,
            "object_position": null,
            "object_fit": null,
            "grid_auto_columns": null,
            "margin": null,
            "display": null,
            "left": null
          }
        },
        "df4e48c105e14115b89add422d36b24c": {
          "model_module": "@jupyter-widgets/controls",
          "model_name": "HTMLModel",
          "model_module_version": "1.5.0",
          "state": {
            "_view_name": "HTMLView",
            "style": "IPY_MODEL_55466243112c4e01800c9eb5779e977e",
            "_dom_classes": [],
            "description": "",
            "_model_name": "HTMLModel",
            "placeholder": "​",
            "_view_module": "@jupyter-widgets/controls",
            "_model_module_version": "1.5.0",
            "value": "Pandas Apply: 100%",
            "_view_count": null,
            "_view_module_version": "1.5.0",
            "description_tooltip": null,
            "_model_module": "@jupyter-widgets/controls",
            "layout": "IPY_MODEL_f7642a44e43940cb82407af152d2a174"
          }
        },
        "d5fc45c6030b46768400d0923d564b6b": {
          "model_module": "@jupyter-widgets/controls",
          "model_name": "FloatProgressModel",
          "model_module_version": "1.5.0",
          "state": {
            "_view_name": "ProgressView",
            "style": "IPY_MODEL_697e12e5b6434a39b671caf042fea36c",
            "_dom_classes": [],
            "description": "",
            "_model_name": "FloatProgressModel",
            "bar_style": "success",
            "max": 3075,
            "_view_module": "@jupyter-widgets/controls",
            "_model_module_version": "1.5.0",
            "value": 3075,
            "_view_count": null,
            "_view_module_version": "1.5.0",
            "orientation": "horizontal",
            "min": 0,
            "description_tooltip": null,
            "_model_module": "@jupyter-widgets/controls",
            "layout": "IPY_MODEL_d41893606a3b46a4adb4ca95ccf8dce0"
          }
        },
        "b7606b0b38f24584999962a647dd83dd": {
          "model_module": "@jupyter-widgets/controls",
          "model_name": "HTMLModel",
          "model_module_version": "1.5.0",
          "state": {
            "_view_name": "HTMLView",
            "style": "IPY_MODEL_a38dbba8866f440c9d68a2229abb7e3c",
            "_dom_classes": [],
            "description": "",
            "_model_name": "HTMLModel",
            "placeholder": "​",
            "_view_module": "@jupyter-widgets/controls",
            "_model_module_version": "1.5.0",
            "value": " 3075/3075 [00:00&lt;00:00, 3399.63it/s]",
            "_view_count": null,
            "_view_module_version": "1.5.0",
            "description_tooltip": null,
            "_model_module": "@jupyter-widgets/controls",
            "layout": "IPY_MODEL_29ac0a759f3849608fe6d6ada62fcb44"
          }
        },
        "55466243112c4e01800c9eb5779e977e": {
          "model_module": "@jupyter-widgets/controls",
          "model_name": "DescriptionStyleModel",
          "model_module_version": "1.5.0",
          "state": {
            "_view_name": "StyleView",
            "_model_name": "DescriptionStyleModel",
            "description_width": "",
            "_view_module": "@jupyter-widgets/base",
            "_model_module_version": "1.5.0",
            "_view_count": null,
            "_view_module_version": "1.2.0",
            "_model_module": "@jupyter-widgets/controls"
          }
        },
        "f7642a44e43940cb82407af152d2a174": {
          "model_module": "@jupyter-widgets/base",
          "model_name": "LayoutModel",
          "model_module_version": "1.2.0",
          "state": {
            "_view_name": "LayoutView",
            "grid_template_rows": null,
            "right": null,
            "justify_content": null,
            "_view_module": "@jupyter-widgets/base",
            "overflow": null,
            "_model_module_version": "1.2.0",
            "_view_count": null,
            "flex_flow": null,
            "width": null,
            "min_width": null,
            "border": null,
            "align_items": null,
            "bottom": null,
            "_model_module": "@jupyter-widgets/base",
            "top": null,
            "grid_column": null,
            "overflow_y": null,
            "overflow_x": null,
            "grid_auto_flow": null,
            "grid_area": null,
            "grid_template_columns": null,
            "flex": null,
            "_model_name": "LayoutModel",
            "justify_items": null,
            "grid_row": null,
            "max_height": null,
            "align_content": null,
            "visibility": null,
            "align_self": null,
            "height": null,
            "min_height": null,
            "padding": null,
            "grid_auto_rows": null,
            "grid_gap": null,
            "max_width": null,
            "order": null,
            "_view_module_version": "1.2.0",
            "grid_template_areas": null,
            "object_position": null,
            "object_fit": null,
            "grid_auto_columns": null,
            "margin": null,
            "display": null,
            "left": null
          }
        },
        "697e12e5b6434a39b671caf042fea36c": {
          "model_module": "@jupyter-widgets/controls",
          "model_name": "ProgressStyleModel",
          "model_module_version": "1.5.0",
          "state": {
            "_view_name": "StyleView",
            "_model_name": "ProgressStyleModel",
            "description_width": "",
            "_view_module": "@jupyter-widgets/base",
            "_model_module_version": "1.5.0",
            "_view_count": null,
            "_view_module_version": "1.2.0",
            "bar_color": null,
            "_model_module": "@jupyter-widgets/controls"
          }
        },
        "d41893606a3b46a4adb4ca95ccf8dce0": {
          "model_module": "@jupyter-widgets/base",
          "model_name": "LayoutModel",
          "model_module_version": "1.2.0",
          "state": {
            "_view_name": "LayoutView",
            "grid_template_rows": null,
            "right": null,
            "justify_content": null,
            "_view_module": "@jupyter-widgets/base",
            "overflow": null,
            "_model_module_version": "1.2.0",
            "_view_count": null,
            "flex_flow": null,
            "width": null,
            "min_width": null,
            "border": null,
            "align_items": null,
            "bottom": null,
            "_model_module": "@jupyter-widgets/base",
            "top": null,
            "grid_column": null,
            "overflow_y": null,
            "overflow_x": null,
            "grid_auto_flow": null,
            "grid_area": null,
            "grid_template_columns": null,
            "flex": null,
            "_model_name": "LayoutModel",
            "justify_items": null,
            "grid_row": null,
            "max_height": null,
            "align_content": null,
            "visibility": null,
            "align_self": null,
            "height": null,
            "min_height": null,
            "padding": null,
            "grid_auto_rows": null,
            "grid_gap": null,
            "max_width": null,
            "order": null,
            "_view_module_version": "1.2.0",
            "grid_template_areas": null,
            "object_position": null,
            "object_fit": null,
            "grid_auto_columns": null,
            "margin": null,
            "display": null,
            "left": null
          }
        },
        "a38dbba8866f440c9d68a2229abb7e3c": {
          "model_module": "@jupyter-widgets/controls",
          "model_name": "DescriptionStyleModel",
          "model_module_version": "1.5.0",
          "state": {
            "_view_name": "StyleView",
            "_model_name": "DescriptionStyleModel",
            "description_width": "",
            "_view_module": "@jupyter-widgets/base",
            "_model_module_version": "1.5.0",
            "_view_count": null,
            "_view_module_version": "1.2.0",
            "_model_module": "@jupyter-widgets/controls"
          }
        },
        "29ac0a759f3849608fe6d6ada62fcb44": {
          "model_module": "@jupyter-widgets/base",
          "model_name": "LayoutModel",
          "model_module_version": "1.2.0",
          "state": {
            "_view_name": "LayoutView",
            "grid_template_rows": null,
            "right": null,
            "justify_content": null,
            "_view_module": "@jupyter-widgets/base",
            "overflow": null,
            "_model_module_version": "1.2.0",
            "_view_count": null,
            "flex_flow": null,
            "width": null,
            "min_width": null,
            "border": null,
            "align_items": null,
            "bottom": null,
            "_model_module": "@jupyter-widgets/base",
            "top": null,
            "grid_column": null,
            "overflow_y": null,
            "overflow_x": null,
            "grid_auto_flow": null,
            "grid_area": null,
            "grid_template_columns": null,
            "flex": null,
            "_model_name": "LayoutModel",
            "justify_items": null,
            "grid_row": null,
            "max_height": null,
            "align_content": null,
            "visibility": null,
            "align_self": null,
            "height": null,
            "min_height": null,
            "padding": null,
            "grid_auto_rows": null,
            "grid_gap": null,
            "max_width": null,
            "order": null,
            "_view_module_version": "1.2.0",
            "grid_template_areas": null,
            "object_position": null,
            "object_fit": null,
            "grid_auto_columns": null,
            "margin": null,
            "display": null,
            "left": null
          }
        },
        "7b540f887a5b448fa3063ff796f7655a": {
          "model_module": "@jupyter-widgets/controls",
          "model_name": "HBoxModel",
          "model_module_version": "1.5.0",
          "state": {
            "_view_name": "HBoxView",
            "_dom_classes": [],
            "_model_name": "HBoxModel",
            "_view_module": "@jupyter-widgets/controls",
            "_model_module_version": "1.5.0",
            "_view_count": null,
            "_view_module_version": "1.5.0",
            "box_style": "",
            "layout": "IPY_MODEL_a73f734d531944efa23a21e6f763a388",
            "_model_module": "@jupyter-widgets/controls",
            "children": [
              "IPY_MODEL_7167dbf497b34c3fa8ce09bcbd9aa517",
              "IPY_MODEL_0b039a5fac934c4fa20f32728e12680b",
              "IPY_MODEL_ad925b9f76804df28aa0aa8bd588b2f9"
            ]
          }
        },
        "a73f734d531944efa23a21e6f763a388": {
          "model_module": "@jupyter-widgets/base",
          "model_name": "LayoutModel",
          "model_module_version": "1.2.0",
          "state": {
            "_view_name": "LayoutView",
            "grid_template_rows": null,
            "right": null,
            "justify_content": null,
            "_view_module": "@jupyter-widgets/base",
            "overflow": null,
            "_model_module_version": "1.2.0",
            "_view_count": null,
            "flex_flow": null,
            "width": null,
            "min_width": null,
            "border": null,
            "align_items": null,
            "bottom": null,
            "_model_module": "@jupyter-widgets/base",
            "top": null,
            "grid_column": null,
            "overflow_y": null,
            "overflow_x": null,
            "grid_auto_flow": null,
            "grid_area": null,
            "grid_template_columns": null,
            "flex": null,
            "_model_name": "LayoutModel",
            "justify_items": null,
            "grid_row": null,
            "max_height": null,
            "align_content": null,
            "visibility": null,
            "align_self": null,
            "height": null,
            "min_height": null,
            "padding": null,
            "grid_auto_rows": null,
            "grid_gap": null,
            "max_width": null,
            "order": null,
            "_view_module_version": "1.2.0",
            "grid_template_areas": null,
            "object_position": null,
            "object_fit": null,
            "grid_auto_columns": null,
            "margin": null,
            "display": null,
            "left": null
          }
        },
        "7167dbf497b34c3fa8ce09bcbd9aa517": {
          "model_module": "@jupyter-widgets/controls",
          "model_name": "HTMLModel",
          "model_module_version": "1.5.0",
          "state": {
            "_view_name": "HTMLView",
            "style": "IPY_MODEL_e127a13c97bb40bc879a4d8f6b1ba142",
            "_dom_classes": [],
            "description": "",
            "_model_name": "HTMLModel",
            "placeholder": "​",
            "_view_module": "@jupyter-widgets/controls",
            "_model_module_version": "1.5.0",
            "value": "Pandas Apply: 100%",
            "_view_count": null,
            "_view_module_version": "1.5.0",
            "description_tooltip": null,
            "_model_module": "@jupyter-widgets/controls",
            "layout": "IPY_MODEL_4d4a8900725440069303e139eaa41475"
          }
        },
        "0b039a5fac934c4fa20f32728e12680b": {
          "model_module": "@jupyter-widgets/controls",
          "model_name": "FloatProgressModel",
          "model_module_version": "1.5.0",
          "state": {
            "_view_name": "ProgressView",
            "style": "IPY_MODEL_7d729af6c94647f1bbe1c46026f31c2c",
            "_dom_classes": [],
            "description": "",
            "_model_name": "FloatProgressModel",
            "bar_style": "success",
            "max": 3075,
            "_view_module": "@jupyter-widgets/controls",
            "_model_module_version": "1.5.0",
            "value": 3075,
            "_view_count": null,
            "_view_module_version": "1.5.0",
            "orientation": "horizontal",
            "min": 0,
            "description_tooltip": null,
            "_model_module": "@jupyter-widgets/controls",
            "layout": "IPY_MODEL_d9c33af4fafa4604a9d465da371b4ec8"
          }
        },
        "ad925b9f76804df28aa0aa8bd588b2f9": {
          "model_module": "@jupyter-widgets/controls",
          "model_name": "HTMLModel",
          "model_module_version": "1.5.0",
          "state": {
            "_view_name": "HTMLView",
            "style": "IPY_MODEL_06eadfda005f47338e141021c34e9bf8",
            "_dom_classes": [],
            "description": "",
            "_model_name": "HTMLModel",
            "placeholder": "​",
            "_view_module": "@jupyter-widgets/controls",
            "_model_module_version": "1.5.0",
            "value": " 3075/3075 [06:35&lt;00:00, 14.65it/s]",
            "_view_count": null,
            "_view_module_version": "1.5.0",
            "description_tooltip": null,
            "_model_module": "@jupyter-widgets/controls",
            "layout": "IPY_MODEL_a4bb01334f98499288c0e504629c1105"
          }
        },
        "e127a13c97bb40bc879a4d8f6b1ba142": {
          "model_module": "@jupyter-widgets/controls",
          "model_name": "DescriptionStyleModel",
          "model_module_version": "1.5.0",
          "state": {
            "_view_name": "StyleView",
            "_model_name": "DescriptionStyleModel",
            "description_width": "",
            "_view_module": "@jupyter-widgets/base",
            "_model_module_version": "1.5.0",
            "_view_count": null,
            "_view_module_version": "1.2.0",
            "_model_module": "@jupyter-widgets/controls"
          }
        },
        "4d4a8900725440069303e139eaa41475": {
          "model_module": "@jupyter-widgets/base",
          "model_name": "LayoutModel",
          "model_module_version": "1.2.0",
          "state": {
            "_view_name": "LayoutView",
            "grid_template_rows": null,
            "right": null,
            "justify_content": null,
            "_view_module": "@jupyter-widgets/base",
            "overflow": null,
            "_model_module_version": "1.2.0",
            "_view_count": null,
            "flex_flow": null,
            "width": null,
            "min_width": null,
            "border": null,
            "align_items": null,
            "bottom": null,
            "_model_module": "@jupyter-widgets/base",
            "top": null,
            "grid_column": null,
            "overflow_y": null,
            "overflow_x": null,
            "grid_auto_flow": null,
            "grid_area": null,
            "grid_template_columns": null,
            "flex": null,
            "_model_name": "LayoutModel",
            "justify_items": null,
            "grid_row": null,
            "max_height": null,
            "align_content": null,
            "visibility": null,
            "align_self": null,
            "height": null,
            "min_height": null,
            "padding": null,
            "grid_auto_rows": null,
            "grid_gap": null,
            "max_width": null,
            "order": null,
            "_view_module_version": "1.2.0",
            "grid_template_areas": null,
            "object_position": null,
            "object_fit": null,
            "grid_auto_columns": null,
            "margin": null,
            "display": null,
            "left": null
          }
        },
        "7d729af6c94647f1bbe1c46026f31c2c": {
          "model_module": "@jupyter-widgets/controls",
          "model_name": "ProgressStyleModel",
          "model_module_version": "1.5.0",
          "state": {
            "_view_name": "StyleView",
            "_model_name": "ProgressStyleModel",
            "description_width": "",
            "_view_module": "@jupyter-widgets/base",
            "_model_module_version": "1.5.0",
            "_view_count": null,
            "_view_module_version": "1.2.0",
            "bar_color": null,
            "_model_module": "@jupyter-widgets/controls"
          }
        },
        "d9c33af4fafa4604a9d465da371b4ec8": {
          "model_module": "@jupyter-widgets/base",
          "model_name": "LayoutModel",
          "model_module_version": "1.2.0",
          "state": {
            "_view_name": "LayoutView",
            "grid_template_rows": null,
            "right": null,
            "justify_content": null,
            "_view_module": "@jupyter-widgets/base",
            "overflow": null,
            "_model_module_version": "1.2.0",
            "_view_count": null,
            "flex_flow": null,
            "width": null,
            "min_width": null,
            "border": null,
            "align_items": null,
            "bottom": null,
            "_model_module": "@jupyter-widgets/base",
            "top": null,
            "grid_column": null,
            "overflow_y": null,
            "overflow_x": null,
            "grid_auto_flow": null,
            "grid_area": null,
            "grid_template_columns": null,
            "flex": null,
            "_model_name": "LayoutModel",
            "justify_items": null,
            "grid_row": null,
            "max_height": null,
            "align_content": null,
            "visibility": null,
            "align_self": null,
            "height": null,
            "min_height": null,
            "padding": null,
            "grid_auto_rows": null,
            "grid_gap": null,
            "max_width": null,
            "order": null,
            "_view_module_version": "1.2.0",
            "grid_template_areas": null,
            "object_position": null,
            "object_fit": null,
            "grid_auto_columns": null,
            "margin": null,
            "display": null,
            "left": null
          }
        },
        "06eadfda005f47338e141021c34e9bf8": {
          "model_module": "@jupyter-widgets/controls",
          "model_name": "DescriptionStyleModel",
          "model_module_version": "1.5.0",
          "state": {
            "_view_name": "StyleView",
            "_model_name": "DescriptionStyleModel",
            "description_width": "",
            "_view_module": "@jupyter-widgets/base",
            "_model_module_version": "1.5.0",
            "_view_count": null,
            "_view_module_version": "1.2.0",
            "_model_module": "@jupyter-widgets/controls"
          }
        },
        "a4bb01334f98499288c0e504629c1105": {
          "model_module": "@jupyter-widgets/base",
          "model_name": "LayoutModel",
          "model_module_version": "1.2.0",
          "state": {
            "_view_name": "LayoutView",
            "grid_template_rows": null,
            "right": null,
            "justify_content": null,
            "_view_module": "@jupyter-widgets/base",
            "overflow": null,
            "_model_module_version": "1.2.0",
            "_view_count": null,
            "flex_flow": null,
            "width": null,
            "min_width": null,
            "border": null,
            "align_items": null,
            "bottom": null,
            "_model_module": "@jupyter-widgets/base",
            "top": null,
            "grid_column": null,
            "overflow_y": null,
            "overflow_x": null,
            "grid_auto_flow": null,
            "grid_area": null,
            "grid_template_columns": null,
            "flex": null,
            "_model_name": "LayoutModel",
            "justify_items": null,
            "grid_row": null,
            "max_height": null,
            "align_content": null,
            "visibility": null,
            "align_self": null,
            "height": null,
            "min_height": null,
            "padding": null,
            "grid_auto_rows": null,
            "grid_gap": null,
            "max_width": null,
            "order": null,
            "_view_module_version": "1.2.0",
            "grid_template_areas": null,
            "object_position": null,
            "object_fit": null,
            "grid_auto_columns": null,
            "margin": null,
            "display": null,
            "left": null
          }
        },
        "2e0f7fae45ba4a17b4d103a6dde6cc4c": {
          "model_module": "@jupyter-widgets/controls",
          "model_name": "HBoxModel",
          "model_module_version": "1.5.0",
          "state": {
            "_view_name": "HBoxView",
            "_dom_classes": [],
            "_model_name": "HBoxModel",
            "_view_module": "@jupyter-widgets/controls",
            "_model_module_version": "1.5.0",
            "_view_count": null,
            "_view_module_version": "1.5.0",
            "box_style": "",
            "layout": "IPY_MODEL_14dd228dafd54c35a389a5a93a88fb02",
            "_model_module": "@jupyter-widgets/controls",
            "children": [
              "IPY_MODEL_7dc8f24d1b3f438dab8f2e658fab0eec",
              "IPY_MODEL_a69816f022734ce38da25dab27d2ea08",
              "IPY_MODEL_752387d8be01401781521ecf0610ed12"
            ]
          }
        },
        "14dd228dafd54c35a389a5a93a88fb02": {
          "model_module": "@jupyter-widgets/base",
          "model_name": "LayoutModel",
          "model_module_version": "1.2.0",
          "state": {
            "_view_name": "LayoutView",
            "grid_template_rows": null,
            "right": null,
            "justify_content": null,
            "_view_module": "@jupyter-widgets/base",
            "overflow": null,
            "_model_module_version": "1.2.0",
            "_view_count": null,
            "flex_flow": null,
            "width": null,
            "min_width": null,
            "border": null,
            "align_items": null,
            "bottom": null,
            "_model_module": "@jupyter-widgets/base",
            "top": null,
            "grid_column": null,
            "overflow_y": null,
            "overflow_x": null,
            "grid_auto_flow": null,
            "grid_area": null,
            "grid_template_columns": null,
            "flex": null,
            "_model_name": "LayoutModel",
            "justify_items": null,
            "grid_row": null,
            "max_height": null,
            "align_content": null,
            "visibility": null,
            "align_self": null,
            "height": null,
            "min_height": null,
            "padding": null,
            "grid_auto_rows": null,
            "grid_gap": null,
            "max_width": null,
            "order": null,
            "_view_module_version": "1.2.0",
            "grid_template_areas": null,
            "object_position": null,
            "object_fit": null,
            "grid_auto_columns": null,
            "margin": null,
            "display": null,
            "left": null
          }
        },
        "7dc8f24d1b3f438dab8f2e658fab0eec": {
          "model_module": "@jupyter-widgets/controls",
          "model_name": "HTMLModel",
          "model_module_version": "1.5.0",
          "state": {
            "_view_name": "HTMLView",
            "style": "IPY_MODEL_622422c3a5974b628e92871d11b0d9db",
            "_dom_classes": [],
            "description": "",
            "_model_name": "HTMLModel",
            "placeholder": "​",
            "_view_module": "@jupyter-widgets/controls",
            "_model_module_version": "1.5.0",
            "value": "Pandas Apply: 100%",
            "_view_count": null,
            "_view_module_version": "1.5.0",
            "description_tooltip": null,
            "_model_module": "@jupyter-widgets/controls",
            "layout": "IPY_MODEL_eb459df5d57e4dcf9add53267b4c0d58"
          }
        },
        "a69816f022734ce38da25dab27d2ea08": {
          "model_module": "@jupyter-widgets/controls",
          "model_name": "FloatProgressModel",
          "model_module_version": "1.5.0",
          "state": {
            "_view_name": "ProgressView",
            "style": "IPY_MODEL_f5c6ca6b34f64d338cd94384341e6035",
            "_dom_classes": [],
            "description": "",
            "_model_name": "FloatProgressModel",
            "bar_style": "success",
            "max": 3075,
            "_view_module": "@jupyter-widgets/controls",
            "_model_module_version": "1.5.0",
            "value": 3075,
            "_view_count": null,
            "_view_module_version": "1.5.0",
            "orientation": "horizontal",
            "min": 0,
            "description_tooltip": null,
            "_model_module": "@jupyter-widgets/controls",
            "layout": "IPY_MODEL_619c9d8621904f0ba0f1a3c983c6f2cd"
          }
        },
        "752387d8be01401781521ecf0610ed12": {
          "model_module": "@jupyter-widgets/controls",
          "model_name": "HTMLModel",
          "model_module_version": "1.5.0",
          "state": {
            "_view_name": "HTMLView",
            "style": "IPY_MODEL_75f147df6c1a4207b2312921a8b1508c",
            "_dom_classes": [],
            "description": "",
            "_model_name": "HTMLModel",
            "placeholder": "​",
            "_view_module": "@jupyter-widgets/controls",
            "_model_module_version": "1.5.0",
            "value": " 3075/3075 [00:00&lt;00:00, 16487.42it/s]",
            "_view_count": null,
            "_view_module_version": "1.5.0",
            "description_tooltip": null,
            "_model_module": "@jupyter-widgets/controls",
            "layout": "IPY_MODEL_4e33c74c840b41b29a947c952c3b6604"
          }
        },
        "622422c3a5974b628e92871d11b0d9db": {
          "model_module": "@jupyter-widgets/controls",
          "model_name": "DescriptionStyleModel",
          "model_module_version": "1.5.0",
          "state": {
            "_view_name": "StyleView",
            "_model_name": "DescriptionStyleModel",
            "description_width": "",
            "_view_module": "@jupyter-widgets/base",
            "_model_module_version": "1.5.0",
            "_view_count": null,
            "_view_module_version": "1.2.0",
            "_model_module": "@jupyter-widgets/controls"
          }
        },
        "eb459df5d57e4dcf9add53267b4c0d58": {
          "model_module": "@jupyter-widgets/base",
          "model_name": "LayoutModel",
          "model_module_version": "1.2.0",
          "state": {
            "_view_name": "LayoutView",
            "grid_template_rows": null,
            "right": null,
            "justify_content": null,
            "_view_module": "@jupyter-widgets/base",
            "overflow": null,
            "_model_module_version": "1.2.0",
            "_view_count": null,
            "flex_flow": null,
            "width": null,
            "min_width": null,
            "border": null,
            "align_items": null,
            "bottom": null,
            "_model_module": "@jupyter-widgets/base",
            "top": null,
            "grid_column": null,
            "overflow_y": null,
            "overflow_x": null,
            "grid_auto_flow": null,
            "grid_area": null,
            "grid_template_columns": null,
            "flex": null,
            "_model_name": "LayoutModel",
            "justify_items": null,
            "grid_row": null,
            "max_height": null,
            "align_content": null,
            "visibility": null,
            "align_self": null,
            "height": null,
            "min_height": null,
            "padding": null,
            "grid_auto_rows": null,
            "grid_gap": null,
            "max_width": null,
            "order": null,
            "_view_module_version": "1.2.0",
            "grid_template_areas": null,
            "object_position": null,
            "object_fit": null,
            "grid_auto_columns": null,
            "margin": null,
            "display": null,
            "left": null
          }
        },
        "f5c6ca6b34f64d338cd94384341e6035": {
          "model_module": "@jupyter-widgets/controls",
          "model_name": "ProgressStyleModel",
          "model_module_version": "1.5.0",
          "state": {
            "_view_name": "StyleView",
            "_model_name": "ProgressStyleModel",
            "description_width": "",
            "_view_module": "@jupyter-widgets/base",
            "_model_module_version": "1.5.0",
            "_view_count": null,
            "_view_module_version": "1.2.0",
            "bar_color": null,
            "_model_module": "@jupyter-widgets/controls"
          }
        },
        "619c9d8621904f0ba0f1a3c983c6f2cd": {
          "model_module": "@jupyter-widgets/base",
          "model_name": "LayoutModel",
          "model_module_version": "1.2.0",
          "state": {
            "_view_name": "LayoutView",
            "grid_template_rows": null,
            "right": null,
            "justify_content": null,
            "_view_module": "@jupyter-widgets/base",
            "overflow": null,
            "_model_module_version": "1.2.0",
            "_view_count": null,
            "flex_flow": null,
            "width": null,
            "min_width": null,
            "border": null,
            "align_items": null,
            "bottom": null,
            "_model_module": "@jupyter-widgets/base",
            "top": null,
            "grid_column": null,
            "overflow_y": null,
            "overflow_x": null,
            "grid_auto_flow": null,
            "grid_area": null,
            "grid_template_columns": null,
            "flex": null,
            "_model_name": "LayoutModel",
            "justify_items": null,
            "grid_row": null,
            "max_height": null,
            "align_content": null,
            "visibility": null,
            "align_self": null,
            "height": null,
            "min_height": null,
            "padding": null,
            "grid_auto_rows": null,
            "grid_gap": null,
            "max_width": null,
            "order": null,
            "_view_module_version": "1.2.0",
            "grid_template_areas": null,
            "object_position": null,
            "object_fit": null,
            "grid_auto_columns": null,
            "margin": null,
            "display": null,
            "left": null
          }
        },
        "75f147df6c1a4207b2312921a8b1508c": {
          "model_module": "@jupyter-widgets/controls",
          "model_name": "DescriptionStyleModel",
          "model_module_version": "1.5.0",
          "state": {
            "_view_name": "StyleView",
            "_model_name": "DescriptionStyleModel",
            "description_width": "",
            "_view_module": "@jupyter-widgets/base",
            "_model_module_version": "1.5.0",
            "_view_count": null,
            "_view_module_version": "1.2.0",
            "_model_module": "@jupyter-widgets/controls"
          }
        },
        "4e33c74c840b41b29a947c952c3b6604": {
          "model_module": "@jupyter-widgets/base",
          "model_name": "LayoutModel",
          "model_module_version": "1.2.0",
          "state": {
            "_view_name": "LayoutView",
            "grid_template_rows": null,
            "right": null,
            "justify_content": null,
            "_view_module": "@jupyter-widgets/base",
            "overflow": null,
            "_model_module_version": "1.2.0",
            "_view_count": null,
            "flex_flow": null,
            "width": null,
            "min_width": null,
            "border": null,
            "align_items": null,
            "bottom": null,
            "_model_module": "@jupyter-widgets/base",
            "top": null,
            "grid_column": null,
            "overflow_y": null,
            "overflow_x": null,
            "grid_auto_flow": null,
            "grid_area": null,
            "grid_template_columns": null,
            "flex": null,
            "_model_name": "LayoutModel",
            "justify_items": null,
            "grid_row": null,
            "max_height": null,
            "align_content": null,
            "visibility": null,
            "align_self": null,
            "height": null,
            "min_height": null,
            "padding": null,
            "grid_auto_rows": null,
            "grid_gap": null,
            "max_width": null,
            "order": null,
            "_view_module_version": "1.2.0",
            "grid_template_areas": null,
            "object_position": null,
            "object_fit": null,
            "grid_auto_columns": null,
            "margin": null,
            "display": null,
            "left": null
          }
        }
      }
    }
  },
  "nbformat": 4,
  "nbformat_minor": 0
}