{
  "cells": [
    {
      "cell_type": "markdown",
      "metadata": {
        "id": "jAWsUvqK9AvU"
      },
      "source": [
        "# Install Libraries"
      ]
    },
    {
      "cell_type": "code",
      "execution_count": null,
      "metadata": {
        "id": "YZKu31U-9AwG"
      },
      "outputs": [],
      "source": [
        "!pip install pandas Sastrawi nlp-id"
      ]
    },
    {
      "cell_type": "markdown",
      "metadata": {
        "id": "JgiqseZZ9AwX"
      },
      "source": [
        "# Import Libraries"
      ]
    },
    {
      "cell_type": "code",
      "execution_count": null,
      "metadata": {
        "id": "dyubQ32l9Awk"
      },
      "outputs": [],
      "source": [
        "import pandas as pd"
      ]
    },
    {
      "cell_type": "markdown",
      "metadata": {
        "id": "nGOemTu49Awn"
      },
      "source": [
        "# Load data"
      ]
    },
    {
      "cell_type": "code",
      "execution_count": null,
      "metadata": {
        "id": "9pGGjrve9Awx"
      },
      "outputs": [],
      "source": [
        "df = pd.read_csv('data/kompas.csv')"
      ]
    },
    {
      "cell_type": "code",
      "execution_count": null,
      "metadata": {
        "id": "ztyFQ66k9Aw1"
      },
      "outputs": [],
      "source": [
        "df.head()"
      ]
    },
    {
      "cell_type": "markdown",
      "metadata": {
        "id": "Mt9-eWQc9AxC"
      },
      "source": [
        "# Text Lowering"
      ]
    },
    {
      "cell_type": "code",
      "execution_count": null,
      "metadata": {
        "id": "DmDoaZHT9AxI"
      },
      "outputs": [],
      "source": [
        "text = \"Selamat datang di Online Bootcamp Python dengan tema Data Mining.\""
      ]
    },
    {
      "cell_type": "code",
      "execution_count": null,
      "metadata": {
        "id": "zZJ67J7f9AxR"
      },
      "outputs": [],
      "source": [
        "text = text.lower()"
      ]
    },
    {
      "cell_type": "code",
      "execution_count": null,
      "metadata": {
        "id": "LCd8w-v79AxT"
      },
      "outputs": [],
      "source": [
        "text"
      ]
    },
    {
      "cell_type": "markdown",
      "metadata": {
        "id": "c0f784vi9AxZ"
      },
      "source": [
        "You can try to lower all the text in dataframe"
      ]
    },
    {
      "cell_type": "code",
      "execution_count": null,
      "metadata": {
        "id": "4Zv0DyhW9Axb"
      },
      "outputs": [],
      "source": [
        "# df[column_name] = df[column_name].apply(lower)"
      ]
    },
    {
      "cell_type": "code",
      "execution_count": null,
      "metadata": {
        "id": "fKwyDWQr9Axc"
      },
      "outputs": [],
      "source": [
        "# df[column_name][:5]"
      ]
    },
    {
      "cell_type": "markdown",
      "metadata": {
        "id": "qhJHA-Bx9Axk"
      },
      "source": [
        "# Remove Numbers, Special Characters, and Extra Spaces\n",
        "\n",
        "Menghilangkan angka[0-9], karakter spesial [~!@#$%^&*()_+{{}|\":?><,./';], dan spasi tambahan"
      ]
    },
    {
      "cell_type": "code",
      "execution_count": null,
      "metadata": {
        "id": "avyRNRS59Axm"
      },
      "outputs": [],
      "source": [
        "text = \"Selamat12 datang di() Online Bootcamp; (!7Python dengan-- tema__Data~@Mining\""
      ]
    },
    {
      "cell_type": "code",
      "execution_count": null,
      "metadata": {
        "id": "s1RU9Du39Axr"
      },
      "outputs": [],
      "source": [
        "import re"
      ]
    },
    {
      "cell_type": "code",
      "execution_count": null,
      "metadata": {
        "id": "j74NqwZ39Ayh"
      },
      "outputs": [],
      "source": [
        "# remove numbers\n",
        "text = re.sub(r'[0-9]+', '', text)\n",
        "text"
      ]
    },
    {
      "cell_type": "code",
      "execution_count": null,
      "metadata": {
        "id": "8vVAkcM19AzI"
      },
      "outputs": [],
      "source": [
        "# remove special characters\n",
        "text = re.sub(r'[^\\w\\s]', '', text)\n",
        "text"
      ]
    },
    {
      "cell_type": "code",
      "execution_count": null,
      "metadata": {
        "id": "lnD9jjxU9AzM"
      },
      "outputs": [],
      "source": [
        "# remove extra spaces\n",
        "text = \" \".join(text.split())\n",
        "text"
      ]
    },
    {
      "cell_type": "markdown",
      "metadata": {
        "id": "u8FZUnww9AzP"
      },
      "source": [
        "Let's try into the dataframe"
      ]
    },
    {
      "cell_type": "code",
      "execution_count": null,
      "metadata": {
        "id": "9kc0AtEx9AzS"
      },
      "outputs": [],
      "source": [
        "# df = ..."
      ]
    },
    {
      "cell_type": "markdown",
      "metadata": {
        "id": "2PVpP0Ld9AzZ"
      },
      "source": [
        "# Stopword Removal\n",
        "\n",
        "Menghilangkan kata-kata yang tidak bermakna seperti kata hubung, kata ganti orang, dan sejenisnya."
      ]
    },
    {
      "cell_type": "code",
      "execution_count": null,
      "metadata": {
        "id": "yrmcv7mr9Azd"
      },
      "outputs": [],
      "source": [
        "text = \"Selamat datang di Online Bootcamp Python dengan tema Data Mining. Apa kabar kalian semua?\""
      ]
    },
    {
      "cell_type": "markdown",
      "metadata": {
        "id": "S9GBbUxT9Aze"
      },
      "source": [
        "- Library Sastrawi"
      ]
    },
    {
      "cell_type": "code",
      "execution_count": null,
      "metadata": {
        "id": "8bM6c5l_9Azf"
      },
      "outputs": [],
      "source": [
        "from Sastrawi.StopWordRemover.StopWordRemoverFactory import StopWordRemoverFactory, StopWordRemover, ArrayDictionary"
      ]
    },
    {
      "cell_type": "code",
      "execution_count": null,
      "metadata": {
        "id": "ILskV-OU9Azj"
      },
      "outputs": [],
      "source": [
        "# get list of stopwords\n",
        "stopword_list = StopWordRemoverFactory().get_stop_words()"
      ]
    },
    {
      "cell_type": "code",
      "execution_count": null,
      "metadata": {
        "id": "nf6KTniM9Azk"
      },
      "outputs": [],
      "source": [
        "stopword_list[:10]"
      ]
    },
    {
      "cell_type": "code",
      "execution_count": null,
      "metadata": {
        "id": "WbrafP289Azt"
      },
      "outputs": [],
      "source": [
        "# create stopwords instance\n",
        "factory = StopWordRemoverFactory()\n",
        "stopwords = factory.create_stop_word_remover()"
      ]
    },
    {
      "cell_type": "code",
      "execution_count": null,
      "metadata": {
        "id": "OqrY8q859Azu"
      },
      "outputs": [],
      "source": [
        "text = stopwords.remove(text)"
      ]
    },
    {
      "cell_type": "code",
      "execution_count": null,
      "metadata": {
        "id": "L5rtnK3w9Azx"
      },
      "outputs": [],
      "source": [
        "text"
      ]
    },
    {
      "cell_type": "markdown",
      "metadata": {
        "id": "oixQr3wU9Azy"
      },
      "source": [
        "Add new stopwords into existed stopwords"
      ]
    },
    {
      "cell_type": "code",
      "execution_count": null,
      "metadata": {
        "id": "ouVt-nZ-9Az7"
      },
      "outputs": [],
      "source": [
        "# create a new list of stopwords\n",
        "new_stopwords = ['stopwords_1', 'stopwords_2', 'stopwords_3']\n",
        "\n",
        "# add both stopwords \n",
        "all_stopwords = stopword_list + new_stopwords\n",
        "\n",
        "# create ArrayDictionary \n",
        "stopword_dict = ArrayDictionary(all_stopwords)\n",
        "\n",
        "sastrawi_stopwords = StopWordRemoverFactory(stopword_dict)"
      ]
    },
    {
      "cell_type": "code",
      "execution_count": null,
      "metadata": {
        "id": "DWeaFLo39Az8"
      },
      "outputs": [],
      "source": [
        "text = sastrawi_stopwords.remove(text)\n",
        "text"
      ]
    },
    {
      "cell_type": "markdown",
      "metadata": {
        "id": "F_5VovI09Az9"
      },
      "source": [
        "- Library NLP ID"
      ]
    },
    {
      "cell_type": "code",
      "execution_count": null,
      "metadata": {
        "id": "sUmOeR8Y9Az-"
      },
      "outputs": [],
      "source": [
        "from nlp_id.stopword import StopWord "
      ]
    },
    {
      "cell_type": "code",
      "execution_count": null,
      "metadata": {
        "id": "TU2mbfqH9A0B"
      },
      "outputs": [],
      "source": [
        "# create instance stopword\n",
        "stopword = StopWord() \n",
        "stopword.get_stopword()"
      ]
    },
    {
      "cell_type": "code",
      "execution_count": null,
      "metadata": {
        "id": "U6ji9BEw9A0G"
      },
      "outputs": [],
      "source": [
        "text = \"Selamat datang di Online Bootcamp Python dengan tema Data Mining. Apa kabar kalian semua?\""
      ]
    },
    {
      "cell_type": "code",
      "execution_count": null,
      "metadata": {
        "id": "Zp6BSbpP9A0L"
      },
      "outputs": [],
      "source": [
        "text = stopword.remove_stopword(text)\n",
        "text"
      ]
    },
    {
      "cell_type": "markdown",
      "metadata": {
        "id": "4JIKvebo9A0M"
      },
      "source": [
        "Let's try into dataframe"
      ]
    },
    {
      "cell_type": "code",
      "execution_count": null,
      "metadata": {
        "id": "Hn6WJeBv9A0O"
      },
      "outputs": [],
      "source": [
        "# df = ..."
      ]
    },
    {
      "cell_type": "markdown",
      "metadata": {
        "id": "7bVSDswx9A0O"
      },
      "source": [
        "# Text Stemming\n",
        "\n",
        "Menghilangkan imbuhan yang terdapat pada kata-kata dalam sebuah kalimat."
      ]
    },
    {
      "cell_type": "markdown",
      "metadata": {
        "id": "Urb2JwMe9A0P"
      },
      "source": [
        "- Library Sastrawi"
      ]
    },
    {
      "cell_type": "code",
      "execution_count": null,
      "metadata": {
        "id": "n86MNB3w9A0Q"
      },
      "outputs": [],
      "source": [
        "from Sastrawi.Stemmer.StemmerFactory import StemmerFactory"
      ]
    },
    {
      "cell_type": "code",
      "execution_count": null,
      "metadata": {
        "id": "Ujto1WEm9A0Z"
      },
      "outputs": [],
      "source": [
        "# create stemmer\n",
        "factory = StemmerFactory()\n",
        "stemmer = factory.create_stemmer()"
      ]
    },
    {
      "cell_type": "code",
      "execution_count": null,
      "metadata": {
        "id": "GwEuLDND9A0a"
      },
      "outputs": [],
      "source": [
        "# text stemming\n",
        "text = \"berbahagialah di hari yang menyenangkan ini!\"\n",
        "text = stemmer.stem(text)\n",
        "text"
      ]
    },
    {
      "cell_type": "markdown",
      "metadata": {
        "id": "CNrRM8vC9A0b"
      },
      "source": [
        "Let's try into dataframe"
      ]
    },
    {
      "cell_type": "code",
      "execution_count": null,
      "metadata": {
        "id": "i9xARuO09A0c"
      },
      "outputs": [],
      "source": [
        "# df = ..."
      ]
    },
    {
      "cell_type": "markdown",
      "metadata": {
        "id": "10kNxy3d9A0l"
      },
      "source": [
        "# Text Lemmatizing\n",
        "\n",
        "Mengubah kata menjadi bentuk bakunya"
      ]
    },
    {
      "cell_type": "markdown",
      "metadata": {
        "id": "49Gn9JE89A0r"
      },
      "source": [
        "- Library NLP ID"
      ]
    },
    {
      "cell_type": "code",
      "execution_count": null,
      "metadata": {
        "id": "cqXyxKG29A0s"
      },
      "outputs": [],
      "source": [
        "from nlp_id.lemmatizer import Lemmatizer"
      ]
    },
    {
      "cell_type": "code",
      "execution_count": null,
      "metadata": {
        "id": "MTgzE4pT9A0t"
      },
      "outputs": [],
      "source": [
        "lemmatizer = Lemmatizer()"
      ]
    },
    {
      "cell_type": "code",
      "execution_count": null,
      "metadata": {
        "id": "q7CgfWQn9A0u"
      },
      "outputs": [],
      "source": [
        "text = 'Saya sedang mencoba untuk belajar penambangan data menggunakan python.'\n",
        "text = lemmatizer.lemmatize(text) "
      ]
    },
    {
      "cell_type": "code",
      "source": [
        "text"
      ],
      "metadata": {
        "id": "xfu9_ML99OMx"
      },
      "execution_count": null,
      "outputs": []
    },
    {
      "cell_type": "markdown",
      "metadata": {
        "id": "2rjN226p9A0v"
      },
      "source": [
        "Let's try into dataframe"
      ]
    },
    {
      "cell_type": "code",
      "execution_count": null,
      "metadata": {
        "id": "Uerzsd9r9A0_"
      },
      "outputs": [],
      "source": [
        "# df = ..."
      ]
    }
  ],
  "metadata": {
    "kernelspec": {
      "display_name": "Python 3",
      "language": "python",
      "name": "python3"
    },
    "language_info": {
      "codemirror_mode": {
        "name": "ipython",
        "version": 3
      },
      "file_extension": ".py",
      "mimetype": "text/x-python",
      "name": "python",
      "nbconvert_exporter": "python",
      "pygments_lexer": "ipython3",
      "version": "3.7.4"
    },
    "colab": {
      "name": "Preprocessing.ipynb",
      "provenance": []
    }
  },
  "nbformat": 4,
  "nbformat_minor": 0
}